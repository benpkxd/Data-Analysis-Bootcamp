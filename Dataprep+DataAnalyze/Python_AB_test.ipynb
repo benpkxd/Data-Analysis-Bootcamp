{
  "metadata": {
    "kernelspec": {
      "language": "python",
      "display_name": "Python 3",
      "name": "python3"
    },
    "language_info": {
      "name": "python",
      "version": "3.10.12",
      "mimetype": "text/x-python",
      "codemirror_mode": {
        "name": "ipython",
        "version": 3
      },
      "pygments_lexer": "ipython3",
      "nbconvert_exporter": "python",
      "file_extension": ".py"
    },
    "kaggle": {
      "accelerator": "none",
      "dataSources": [
        {
          "sourceId": 43643,
          "sourceType": "datasetVersion",
          "datasetId": 33220
        }
      ],
      "dockerImageVersionId": 30839,
      "isInternetEnabled": true,
      "language": "python",
      "sourceType": "notebook",
      "isGpuEnabled": false
    },
    "colab": {
      "name": "Python-AB test",
      "provenance": [],
      "include_colab_link": true
    }
  },
  "nbformat_minor": 0,
  "nbformat": 4,
  "cells": [
    {
      "cell_type": "markdown",
      "metadata": {
        "id": "view-in-github",
        "colab_type": "text"
      },
      "source": [
        "<a href=\"https://colab.research.google.com/github/benpkxd/Data-Analysis-Skills/blob/main/Dataprep%2BDataAnalyze/Python_AB_test.ipynb\" target=\"_parent\"><img src=\"https://colab.research.google.com/assets/colab-badge.svg\" alt=\"Open In Colab\"/></a>"
      ]
    },
    {
      "source": [
        "# IMPORTANT: RUN THIS CELL IN ORDER TO IMPORT YOUR KAGGLE DATA SOURCES,\n",
        "# THEN FEEL FREE TO DELETE THIS CELL.\n",
        "# NOTE: THIS NOTEBOOK ENVIRONMENT DIFFERS FROM KAGGLE'S PYTHON\n",
        "# ENVIRONMENT SO THERE MAY BE MISSING LIBRARIES USED BY YOUR\n",
        "# NOTEBOOK.\n",
        "import kagglehub\n",
        "zhangluyuan_ab_testing_path = kagglehub.dataset_download('zhangluyuan/ab-testing')\n",
        "\n",
        "print('Data source import complete.')\n"
      ],
      "metadata": {
        "id": "OhN03CJd-acf"
      },
      "cell_type": "code",
      "outputs": [],
      "execution_count": null
    },
    {
      "cell_type": "markdown",
      "source": [
        "Choosing the variables\n",
        "For our test we'll need two groups:\n",
        "\n",
        "A control group - They'll be shown the old design\n",
        "A treatment (or experimental) group - They'll be shown the new design\n",
        "This will be our Independent Variable. The reason we have two groups even though we know the baseline conversion rate is that we want to control for other variables that could have an effect on our results, such as seasonality: by having a control group we can directly compare their results to the treatment group, because the only systematic difference between the groups is the design of the product page, and we can therefore attribute any differences in results to the designs.\n",
        "\n",
        "For our Dependent Variable (i.e. what we are trying to measure), we are interested in capturing the conversion rate. A way we can code this is by each user session with a binary variable:\n",
        "\n",
        "0 - The user did not buy the product during this user session\n",
        "1 - The user bought the product during this user session\n",
        "This way, we can easily calculate the mean for each group to get the conversion rate of each design.\n",
        "\n",
        "Choosing a sample size\n",
        "It is important to note that since we won't test the whole user base (our population), the conversion rates that we'll get will inevitably be only estimates of the true rates.\n",
        "\n",
        "The number of people (or user sessions) we decide to capture in each group will have an effect on the precision of our estimated conversion rates: the larger the sample size, the more precise our estimates (i.e. the smaller our confidence intervals), the higher the chance to detect a difference in the two groups, if present.\n",
        "\n",
        "On the other hand, the larger our sample gets, the more expensive (and impractical) our study becomes.\n",
        "\n",
        "So how many people should we have in each group?\n",
        "\n",
        "The sample size we need is estimated through something called Power analysis, and it depends on a few factors:\n",
        "\n",
        "Power of the test (\n",
        ") - This represents the probability of finding a statistical difference between the groups in our test when a difference is actually present. This is usually set at 0.8 as a convention (here's more info on statistical power, if you are curious)\n",
        "Alpha value (\n",
        ") - The critical value we set earlier to 0.05\n",
        "Effect size - How big of a difference we expect there to be between the conversion rates\n",
        "Since our team would be happy with a difference of 2%, we can use 13% and 15% to calculate the effect size we expect."
      ],
      "metadata": {
        "id": "kpFPgVQm-ack"
      }
    },
    {
      "cell_type": "code",
      "source": [
        "# Packages imports\n",
        "import numpy as np\n",
        "import pandas as pd\n",
        "import scipy.stats as stats\n",
        "import statsmodels.stats.api as sms\n",
        "import matplotlib as mpl\n",
        "import matplotlib.pyplot as plt\n",
        "import seaborn as sns\n",
        "from math import ceil\n",
        "\n",
        "%matplotlib inline\n",
        "\n",
        "# Some plot styling preferences\n",
        "sns.set_style('whitegrid')\n",
        "font = {'family' : 'Helvetica',\n",
        "        'weight' : 'bold',\n",
        "        'size'   : 14}\n",
        "\n",
        "mpl.rc('font', **font)"
      ],
      "metadata": {
        "trusted": true,
        "execution": {
          "iopub.status.busy": "2025-01-24T15:07:22.03054Z",
          "iopub.execute_input": "2025-01-24T15:07:22.030882Z",
          "iopub.status.idle": "2025-01-24T15:07:25.336509Z",
          "shell.execute_reply.started": "2025-01-24T15:07:22.030852Z",
          "shell.execute_reply": "2025-01-24T15:07:25.335257Z"
        },
        "id": "9m-hNsak-acm"
      },
      "outputs": [],
      "execution_count": null
    },
    {
      "cell_type": "markdown",
      "source": [
        "# **1.Data Entry**"
      ],
      "metadata": {
        "id": "MF4Q7mV4-acn"
      }
    },
    {
      "cell_type": "code",
      "source": [
        "effect_size = sms.proportion_effectsize(0.13, 0.15)    # Calculating effect size based on our expected rates\n",
        "\n",
        "required_n = sms.NormalIndPower().solve_power(\n",
        "    effect_size,\n",
        "    power=0.8,\n",
        "    alpha=0.05,\n",
        "    ratio=1\n",
        "    )                                                  # Calculating sample size needed\n",
        "\n",
        "required_n = ceil(required_n)                          # Rounding up to next whole number\n",
        "\n",
        "print(required_n)"
      ],
      "metadata": {
        "trusted": true,
        "execution": {
          "iopub.status.busy": "2025-01-24T15:07:25.33757Z",
          "iopub.execute_input": "2025-01-24T15:07:25.338087Z",
          "iopub.status.idle": "2025-01-24T15:07:25.367038Z",
          "shell.execute_reply.started": "2025-01-24T15:07:25.338056Z",
          "shell.execute_reply": "2025-01-24T15:07:25.365392Z"
        },
        "id": "cjZyEWjH-acn",
        "outputId": "a9c83eca-0de4-49d7-a4d0-6f87d796f418"
      },
      "outputs": [
        {
          "name": "stdout",
          "text": "4720\n",
          "output_type": "stream"
        }
      ],
      "execution_count": null
    },
    {
      "cell_type": "markdown",
      "source": [
        "We'd need at least 4720 observations for each group."
      ],
      "metadata": {
        "id": "EKlOyTin-aco"
      }
    },
    {
      "cell_type": "code",
      "source": [
        "df = pd.read_csv('/kaggle/input/ab-testing/ab_data.csv')\n",
        "df.head()"
      ],
      "metadata": {
        "trusted": true,
        "execution": {
          "iopub.status.busy": "2025-01-24T15:07:25.368212Z",
          "iopub.execute_input": "2025-01-24T15:07:25.368638Z",
          "iopub.status.idle": "2025-01-24T15:07:26.078012Z",
          "shell.execute_reply.started": "2025-01-24T15:07:25.368607Z",
          "shell.execute_reply": "2025-01-24T15:07:26.076713Z"
        },
        "id": "sY8SW9Pv-aco",
        "outputId": "f460f20b-9b1d-413a-e3ac-f562fa6345da"
      },
      "outputs": [
        {
          "execution_count": 3,
          "output_type": "execute_result",
          "data": {
            "text/plain": "   user_id                   timestamp      group landing_page  converted\n0   851104  2017-01-21 22:11:48.556739    control     old_page          0\n1   804228  2017-01-12 08:01:45.159739    control     old_page          0\n2   661590  2017-01-11 16:55:06.154213  treatment     new_page          0\n3   853541  2017-01-08 18:28:03.143765  treatment     new_page          0\n4   864975  2017-01-21 01:52:26.210827    control     old_page          1",
            "text/html": "<div>\n<style scoped>\n    .dataframe tbody tr th:only-of-type {\n        vertical-align: middle;\n    }\n\n    .dataframe tbody tr th {\n        vertical-align: top;\n    }\n\n    .dataframe thead th {\n        text-align: right;\n    }\n</style>\n<table border=\"1\" class=\"dataframe\">\n  <thead>\n    <tr style=\"text-align: right;\">\n      <th></th>\n      <th>user_id</th>\n      <th>timestamp</th>\n      <th>group</th>\n      <th>landing_page</th>\n      <th>converted</th>\n    </tr>\n  </thead>\n  <tbody>\n    <tr>\n      <th>0</th>\n      <td>851104</td>\n      <td>2017-01-21 22:11:48.556739</td>\n      <td>control</td>\n      <td>old_page</td>\n      <td>0</td>\n    </tr>\n    <tr>\n      <th>1</th>\n      <td>804228</td>\n      <td>2017-01-12 08:01:45.159739</td>\n      <td>control</td>\n      <td>old_page</td>\n      <td>0</td>\n    </tr>\n    <tr>\n      <th>2</th>\n      <td>661590</td>\n      <td>2017-01-11 16:55:06.154213</td>\n      <td>treatment</td>\n      <td>new_page</td>\n      <td>0</td>\n    </tr>\n    <tr>\n      <th>3</th>\n      <td>853541</td>\n      <td>2017-01-08 18:28:03.143765</td>\n      <td>treatment</td>\n      <td>new_page</td>\n      <td>0</td>\n    </tr>\n    <tr>\n      <th>4</th>\n      <td>864975</td>\n      <td>2017-01-21 01:52:26.210827</td>\n      <td>control</td>\n      <td>old_page</td>\n      <td>1</td>\n    </tr>\n  </tbody>\n</table>\n</div>"
          },
          "metadata": {}
        }
      ],
      "execution_count": null
    },
    {
      "cell_type": "code",
      "source": [
        "df.info()"
      ],
      "metadata": {
        "trusted": true,
        "execution": {
          "iopub.status.busy": "2025-01-24T15:07:26.079286Z",
          "iopub.execute_input": "2025-01-24T15:07:26.079671Z",
          "iopub.status.idle": "2025-01-24T15:07:26.16606Z",
          "shell.execute_reply.started": "2025-01-24T15:07:26.079633Z",
          "shell.execute_reply": "2025-01-24T15:07:26.164908Z"
        },
        "id": "TC9NUxda-acp",
        "outputId": "5c964b23-0aa4-4122-b587-723fbb5a225a"
      },
      "outputs": [
        {
          "name": "stdout",
          "text": "<class 'pandas.core.frame.DataFrame'>\nRangeIndex: 294478 entries, 0 to 294477\nData columns (total 5 columns):\n #   Column        Non-Null Count   Dtype \n---  ------        --------------   ----- \n 0   user_id       294478 non-null  int64 \n 1   timestamp     294478 non-null  object\n 2   group         294478 non-null  object\n 3   landing_page  294478 non-null  object\n 4   converted     294478 non-null  int64 \ndtypes: int64(2), object(3)\nmemory usage: 11.2+ MB\n",
          "output_type": "stream"
        }
      ],
      "execution_count": null
    },
    {
      "cell_type": "markdown",
      "source": [
        "# **2. Data Preparation**"
      ],
      "metadata": {
        "id": "we0qONkq-acq"
      }
    },
    {
      "cell_type": "code",
      "source": [
        "# To make sure all the control group are seeing the old page and viceversa\n",
        "\n",
        "pd.crosstab(df['group'], df['landing_page'])"
      ],
      "metadata": {
        "trusted": true,
        "execution": {
          "iopub.status.busy": "2025-01-24T15:07:26.167349Z",
          "iopub.execute_input": "2025-01-24T15:07:26.167853Z",
          "iopub.status.idle": "2025-01-24T15:07:26.269999Z",
          "shell.execute_reply.started": "2025-01-24T15:07:26.167808Z",
          "shell.execute_reply": "2025-01-24T15:07:26.268811Z"
        },
        "id": "bSWc5ogL-acq",
        "outputId": "45c1e5c3-f38a-4bda-b10f-07fed90015de"
      },
      "outputs": [
        {
          "execution_count": 5,
          "output_type": "execute_result",
          "data": {
            "text/plain": "landing_page  new_page  old_page\ngroup                           \ncontrol           1928    145274\ntreatment       145311      1965",
            "text/html": "<div>\n<style scoped>\n    .dataframe tbody tr th:only-of-type {\n        vertical-align: middle;\n    }\n\n    .dataframe tbody tr th {\n        vertical-align: top;\n    }\n\n    .dataframe thead th {\n        text-align: right;\n    }\n</style>\n<table border=\"1\" class=\"dataframe\">\n  <thead>\n    <tr style=\"text-align: right;\">\n      <th>landing_page</th>\n      <th>new_page</th>\n      <th>old_page</th>\n    </tr>\n    <tr>\n      <th>group</th>\n      <th></th>\n      <th></th>\n    </tr>\n  </thead>\n  <tbody>\n    <tr>\n      <th>control</th>\n      <td>1928</td>\n      <td>145274</td>\n    </tr>\n    <tr>\n      <th>treatment</th>\n      <td>145311</td>\n      <td>1965</td>\n    </tr>\n  </tbody>\n</table>\n</div>"
          },
          "metadata": {}
        }
      ],
      "execution_count": null
    },
    {
      "cell_type": "code",
      "source": [
        "# make sure there are no users that have been sampled multiple times.\n",
        "count = df['user_id'].value_counts(ascending=False)\n",
        "multi_users = count[count > 1].count()\n",
        "print(f'There are {multi_users} multiply times users')"
      ],
      "metadata": {
        "trusted": true,
        "execution": {
          "iopub.status.busy": "2025-01-24T15:07:26.272475Z",
          "iopub.execute_input": "2025-01-24T15:07:26.272857Z",
          "iopub.status.idle": "2025-01-24T15:07:26.323291Z",
          "shell.execute_reply.started": "2025-01-24T15:07:26.272826Z",
          "shell.execute_reply": "2025-01-24T15:07:26.321875Z"
        },
        "id": "Y_EEr7Lp-acr",
        "outputId": "65262a22-532a-4a82-a7af-bf2610778fbc"
      },
      "outputs": [
        {
          "name": "stdout",
          "text": "There are 3894 multiply times users\n",
          "output_type": "stream"
        }
      ],
      "execution_count": null
    },
    {
      "cell_type": "code",
      "source": [
        "# remove duplicate\n",
        "remove_users = count[count>1].index\n",
        "df = df[~df['user_id'].isin(remove_users)]\n",
        "df.info()"
      ],
      "metadata": {
        "trusted": true,
        "execution": {
          "iopub.status.busy": "2025-01-24T15:07:26.325054Z",
          "iopub.execute_input": "2025-01-24T15:07:26.32548Z",
          "iopub.status.idle": "2025-01-24T15:07:26.412923Z",
          "shell.execute_reply.started": "2025-01-24T15:07:26.325438Z",
          "shell.execute_reply": "2025-01-24T15:07:26.4118Z"
        },
        "id": "O1d2hwBj-acr",
        "outputId": "a2c0cb01-a556-4a6f-8eac-2ab78f11f486"
      },
      "outputs": [
        {
          "name": "stdout",
          "text": "<class 'pandas.core.frame.DataFrame'>\nIndex: 286690 entries, 0 to 294477\nData columns (total 5 columns):\n #   Column        Non-Null Count   Dtype \n---  ------        --------------   ----- \n 0   user_id       286690 non-null  int64 \n 1   timestamp     286690 non-null  object\n 2   group         286690 non-null  object\n 3   landing_page  286690 non-null  object\n 4   converted     286690 non-null  int64 \ndtypes: int64(2), object(3)\nmemory usage: 13.1+ MB\n",
          "output_type": "stream"
        }
      ],
      "execution_count": null
    },
    {
      "cell_type": "markdown",
      "source": [
        "# **3.Random Sampling**"
      ],
      "metadata": {
        "id": "boJuB_42-acr"
      }
    },
    {
      "cell_type": "code",
      "source": [
        "#we can proceed and sample n=4720 entries for each of the groups\n",
        "ctrl = df[df['group']=='control'].sample(n=required_n,random_state=20)\n",
        "trt = df[df['group']=='treatment'].sample(n=required_n,random_state=20)\n",
        "\n",
        "ab_test = pd.concat([ctrl,trt],axis=0)\n",
        "ab_test.reset_index(drop=True,inplace=True)\n",
        "ab_test"
      ],
      "metadata": {
        "trusted": true,
        "execution": {
          "iopub.status.busy": "2025-01-24T15:07:26.413971Z",
          "iopub.execute_input": "2025-01-24T15:07:26.414285Z",
          "iopub.status.idle": "2025-01-24T15:07:26.536659Z",
          "shell.execute_reply.started": "2025-01-24T15:07:26.414225Z",
          "shell.execute_reply": "2025-01-24T15:07:26.535191Z"
        },
        "id": "WtO8hFy--acs",
        "outputId": "1790b94d-d674-43b7-fb8d-994bca497a25"
      },
      "outputs": [
        {
          "execution_count": 8,
          "output_type": "execute_result",
          "data": {
            "text/plain": "      user_id                   timestamp      group landing_page  converted\n0      714963  2017-01-07 23:04:42.723921    control     old_page          0\n1      708211  2017-01-16 12:33:36.052481    control     old_page          0\n2      918584  2017-01-05 15:27:46.426383    control     old_page          0\n3      687179  2017-01-24 08:28:13.814195    control     old_page          0\n4      854287  2017-01-15 13:19:23.463341    control     old_page          0\n...       ...                         ...        ...          ...        ...\n9435   670620  2017-01-07 09:42:41.902873  treatment     new_page          0\n9436   888446  2017-01-22 18:57:39.133948  treatment     new_page          0\n9437   818646  2017-01-18 15:36:21.132817  treatment     new_page          0\n9438   904550  2017-01-18 10:40:37.225077  treatment     new_page          1\n9439   684469  2017-01-18 05:37:28.466915  treatment     new_page          0\n\n[9440 rows x 5 columns]",
            "text/html": "<div>\n<style scoped>\n    .dataframe tbody tr th:only-of-type {\n        vertical-align: middle;\n    }\n\n    .dataframe tbody tr th {\n        vertical-align: top;\n    }\n\n    .dataframe thead th {\n        text-align: right;\n    }\n</style>\n<table border=\"1\" class=\"dataframe\">\n  <thead>\n    <tr style=\"text-align: right;\">\n      <th></th>\n      <th>user_id</th>\n      <th>timestamp</th>\n      <th>group</th>\n      <th>landing_page</th>\n      <th>converted</th>\n    </tr>\n  </thead>\n  <tbody>\n    <tr>\n      <th>0</th>\n      <td>714963</td>\n      <td>2017-01-07 23:04:42.723921</td>\n      <td>control</td>\n      <td>old_page</td>\n      <td>0</td>\n    </tr>\n    <tr>\n      <th>1</th>\n      <td>708211</td>\n      <td>2017-01-16 12:33:36.052481</td>\n      <td>control</td>\n      <td>old_page</td>\n      <td>0</td>\n    </tr>\n    <tr>\n      <th>2</th>\n      <td>918584</td>\n      <td>2017-01-05 15:27:46.426383</td>\n      <td>control</td>\n      <td>old_page</td>\n      <td>0</td>\n    </tr>\n    <tr>\n      <th>3</th>\n      <td>687179</td>\n      <td>2017-01-24 08:28:13.814195</td>\n      <td>control</td>\n      <td>old_page</td>\n      <td>0</td>\n    </tr>\n    <tr>\n      <th>4</th>\n      <td>854287</td>\n      <td>2017-01-15 13:19:23.463341</td>\n      <td>control</td>\n      <td>old_page</td>\n      <td>0</td>\n    </tr>\n    <tr>\n      <th>...</th>\n      <td>...</td>\n      <td>...</td>\n      <td>...</td>\n      <td>...</td>\n      <td>...</td>\n    </tr>\n    <tr>\n      <th>9435</th>\n      <td>670620</td>\n      <td>2017-01-07 09:42:41.902873</td>\n      <td>treatment</td>\n      <td>new_page</td>\n      <td>0</td>\n    </tr>\n    <tr>\n      <th>9436</th>\n      <td>888446</td>\n      <td>2017-01-22 18:57:39.133948</td>\n      <td>treatment</td>\n      <td>new_page</td>\n      <td>0</td>\n    </tr>\n    <tr>\n      <th>9437</th>\n      <td>818646</td>\n      <td>2017-01-18 15:36:21.132817</td>\n      <td>treatment</td>\n      <td>new_page</td>\n      <td>0</td>\n    </tr>\n    <tr>\n      <th>9438</th>\n      <td>904550</td>\n      <td>2017-01-18 10:40:37.225077</td>\n      <td>treatment</td>\n      <td>new_page</td>\n      <td>1</td>\n    </tr>\n    <tr>\n      <th>9439</th>\n      <td>684469</td>\n      <td>2017-01-18 05:37:28.466915</td>\n      <td>treatment</td>\n      <td>new_page</td>\n      <td>0</td>\n    </tr>\n  </tbody>\n</table>\n<p>9440 rows × 5 columns</p>\n</div>"
          },
          "metadata": {}
        }
      ],
      "execution_count": null
    },
    {
      "cell_type": "code",
      "source": [
        "ab_test['group'].value_counts()"
      ],
      "metadata": {
        "trusted": true,
        "execution": {
          "iopub.status.busy": "2025-01-24T15:07:26.538552Z",
          "iopub.execute_input": "2025-01-24T15:07:26.539042Z",
          "iopub.status.idle": "2025-01-24T15:07:26.550944Z",
          "shell.execute_reply.started": "2025-01-24T15:07:26.538977Z",
          "shell.execute_reply": "2025-01-24T15:07:26.549189Z"
        },
        "id": "GKkd-7Wp-acs",
        "outputId": "ff01de93-b758-4da8-e142-abd4ef0bf320"
      },
      "outputs": [
        {
          "execution_count": 9,
          "output_type": "execute_result",
          "data": {
            "text/plain": "group\ncontrol      4720\ntreatment    4720\nName: count, dtype: int64"
          },
          "metadata": {}
        }
      ],
      "execution_count": null
    },
    {
      "cell_type": "markdown",
      "source": [
        "# **4.Test the hypothesis**"
      ],
      "metadata": {
        "id": "SMo3YMzh-acs"
      }
    },
    {
      "cell_type": "code",
      "source": [
        "conversion = ab_test.groupby('group')['converted']\n",
        "std_p = lambda x:np.std(x, ddof=0) # SD. of the propotion\n",
        "se_p = lambda x:stats.sem(x, ddof=0) # SE. of the propotion (std/sqrt(n))\n",
        "\n",
        "conversion = conversion.agg([np.mean, std_p,se_p])\n",
        "conversion.columns = ['conversion_rate','std_deviation','std_error']\n",
        "\n",
        "conversion"
      ],
      "metadata": {
        "trusted": true,
        "execution": {
          "iopub.status.busy": "2025-01-24T15:15:27.623661Z",
          "iopub.execute_input": "2025-01-24T15:15:27.624201Z",
          "iopub.status.idle": "2025-01-24T15:15:27.651954Z",
          "shell.execute_reply.started": "2025-01-24T15:15:27.624168Z",
          "shell.execute_reply": "2025-01-24T15:15:27.6507Z"
        },
        "id": "DDXwwUB6-acs",
        "outputId": "d07caff5-4123-4135-d2b0-7a63ac38177e"
      },
      "outputs": [
        {
          "name": "stderr",
          "text": "<ipython-input-14-c7a0895551c2>:5: FutureWarning: The provided callable <function mean at 0x7e2c96de8790> is currently using SeriesGroupBy.mean. In a future version of pandas, the provided callable will be used directly. To keep current behavior pass the string \"mean\" instead.\n  conversion = conversion.agg([np.mean, std_p,se_p])\n",
          "output_type": "stream"
        },
        {
          "execution_count": 14,
          "output_type": "execute_result",
          "data": {
            "text/plain": "           conversion_rate  std_deviation  std_error\ngroup                                               \ncontrol           0.114831       0.318817   0.004641\ntreatment         0.116949       0.321360   0.004678",
            "text/html": "<div>\n<style scoped>\n    .dataframe tbody tr th:only-of-type {\n        vertical-align: middle;\n    }\n\n    .dataframe tbody tr th {\n        vertical-align: top;\n    }\n\n    .dataframe thead th {\n        text-align: right;\n    }\n</style>\n<table border=\"1\" class=\"dataframe\">\n  <thead>\n    <tr style=\"text-align: right;\">\n      <th></th>\n      <th>conversion_rate</th>\n      <th>std_deviation</th>\n      <th>std_error</th>\n    </tr>\n    <tr>\n      <th>group</th>\n      <th></th>\n      <th></th>\n      <th></th>\n    </tr>\n  </thead>\n  <tbody>\n    <tr>\n      <th>control</th>\n      <td>0.114831</td>\n      <td>0.318817</td>\n      <td>0.004641</td>\n    </tr>\n    <tr>\n      <th>treatment</th>\n      <td>0.116949</td>\n      <td>0.321360</td>\n      <td>0.004678</td>\n    </tr>\n  </tbody>\n</table>\n</div>"
          },
          "metadata": {}
        }
      ],
      "execution_count": null
    },
    {
      "cell_type": "code",
      "source": [
        "conversion.style.format('{:.3f}')"
      ],
      "metadata": {
        "trusted": true,
        "execution": {
          "iopub.status.busy": "2025-01-24T15:16:05.734463Z",
          "iopub.execute_input": "2025-01-24T15:16:05.73487Z",
          "iopub.status.idle": "2025-01-24T15:16:05.852153Z",
          "shell.execute_reply.started": "2025-01-24T15:16:05.734843Z",
          "shell.execute_reply": "2025-01-24T15:16:05.850913Z"
        },
        "id": "yx2KvqSR-act",
        "outputId": "33d2d531-957d-41fb-d4b5-b76cdecca0fb"
      },
      "outputs": [
        {
          "execution_count": 15,
          "output_type": "execute_result",
          "data": {
            "text/plain": "<pandas.io.formats.style.Styler at 0x7e2c6c145690>",
            "text/html": "<style type=\"text/css\">\n</style>\n<table id=\"T_6364d\">\n  <thead>\n    <tr>\n      <th class=\"blank level0\" >&nbsp;</th>\n      <th id=\"T_6364d_level0_col0\" class=\"col_heading level0 col0\" >conversion_rate</th>\n      <th id=\"T_6364d_level0_col1\" class=\"col_heading level0 col1\" >std_deviation</th>\n      <th id=\"T_6364d_level0_col2\" class=\"col_heading level0 col2\" >std_error</th>\n    </tr>\n    <tr>\n      <th class=\"index_name level0\" >group</th>\n      <th class=\"blank col0\" >&nbsp;</th>\n      <th class=\"blank col1\" >&nbsp;</th>\n      <th class=\"blank col2\" >&nbsp;</th>\n    </tr>\n  </thead>\n  <tbody>\n    <tr>\n      <th id=\"T_6364d_level0_row0\" class=\"row_heading level0 row0\" >control</th>\n      <td id=\"T_6364d_row0_col0\" class=\"data row0 col0\" >0.115</td>\n      <td id=\"T_6364d_row0_col1\" class=\"data row0 col1\" >0.319</td>\n      <td id=\"T_6364d_row0_col2\" class=\"data row0 col2\" >0.005</td>\n    </tr>\n    <tr>\n      <th id=\"T_6364d_level0_row1\" class=\"row_heading level0 row1\" >treatment</th>\n      <td id=\"T_6364d_row1_col0\" class=\"data row1 col0\" >0.117</td>\n      <td id=\"T_6364d_row1_col1\" class=\"data row1 col1\" >0.321</td>\n      <td id=\"T_6364d_row1_col2\" class=\"data row1 col2\" >0.005</td>\n    </tr>\n  </tbody>\n</table>\n"
          },
          "metadata": {}
        }
      ],
      "execution_count": null
    },
    {
      "cell_type": "markdown",
      "source": [
        "Result show 2 groups performed similarly (conversion rate 11.5%,11.7%)"
      ],
      "metadata": {
        "id": "cw-xxlQK-act"
      }
    },
    {
      "cell_type": "code",
      "source": [
        "plt.figure(figsize=(8,6))\n",
        "sns.barplot(x=ab_test['group'],y=ab_test['converted'])\n",
        "\n",
        "plt.ylim(0,0.2)\n",
        "plt.title('Converion rate in each group')\n",
        "plt.xlabel('Group')\n",
        "plt.ylabel('Converted(proportion)')"
      ],
      "metadata": {
        "trusted": true,
        "execution": {
          "iopub.status.busy": "2025-01-24T15:21:40.674627Z",
          "iopub.execute_input": "2025-01-24T15:21:40.675037Z",
          "iopub.status.idle": "2025-01-24T15:21:41.044025Z",
          "shell.execute_reply.started": "2025-01-24T15:21:40.675Z",
          "shell.execute_reply": "2025-01-24T15:21:41.04282Z"
        },
        "id": "Wj66IwsR-act",
        "outputId": "46803446-5464-4d63-ab11-47ef879eabee"
      },
      "outputs": [
        {
          "execution_count": 17,
          "output_type": "execute_result",
          "data": {
            "text/plain": "Text(0, 0.5, 'Converted(proportion)')"
          },
          "metadata": {}
        },
        {
          "output_type": "display_data",
          "data": {
            "text/plain": "<Figure size 800x600 with 1 Axes>",
            "image/png": "[encoded data removed]"
          },
          "metadata": {}
        }
      ],
      "execution_count": null
    },
    {
      "cell_type": "markdown",
      "source": [
        "# **5. Generate Statistics**"
      ],
      "metadata": {
        "id": "Ko8EGTTW-act"
      }
    },
    {
      "cell_type": "code",
      "source": [
        "from statsmodels.stats.proportion import proportions_ztest, proportion_confint"
      ],
      "metadata": {
        "trusted": true,
        "execution": {
          "iopub.status.busy": "2025-01-24T15:26:56.732861Z",
          "iopub.execute_input": "2025-01-24T15:26:56.733436Z",
          "iopub.status.idle": "2025-01-24T15:26:56.739185Z",
          "shell.execute_reply.started": "2025-01-24T15:26:56.733394Z",
          "shell.execute_reply": "2025-01-24T15:26:56.737979Z"
        },
        "id": "lnFkzjnO-act"
      },
      "outputs": [],
      "execution_count": null
    },
    {
      "cell_type": "code",
      "source": [
        "ctrl_result = ab_test[ab_test['group']=='control']['converted']\n",
        "trt_result = ab_test[ab_test['group']=='treatment']['converted']"
      ],
      "metadata": {
        "trusted": true,
        "execution": {
          "iopub.status.busy": "2025-01-24T15:28:59.45047Z",
          "iopub.execute_input": "2025-01-24T15:28:59.450949Z",
          "iopub.status.idle": "2025-01-24T15:28:59.465617Z",
          "shell.execute_reply.started": "2025-01-24T15:28:59.450919Z",
          "shell.execute_reply": "2025-01-24T15:28:59.464415Z"
        },
        "id": "nUGGroqC-act"
      },
      "outputs": [],
      "execution_count": null
    },
    {
      "cell_type": "code",
      "source": [
        "n_con = ctrl_result.count()\n",
        "n_treat = trt_result.count()\n",
        "n_treat"
      ],
      "metadata": {
        "trusted": true,
        "execution": {
          "iopub.status.busy": "2025-01-24T15:30:00.238004Z",
          "iopub.execute_input": "2025-01-24T15:30:00.238467Z",
          "iopub.status.idle": "2025-01-24T15:30:00.246855Z",
          "shell.execute_reply.started": "2025-01-24T15:30:00.238436Z",
          "shell.execute_reply": "2025-01-24T15:30:00.245525Z"
        },
        "id": "ko-VYv6L-acu",
        "outputId": "1038f603-8284-4ffc-b256-f4d6445cde3c"
      },
      "outputs": [
        {
          "execution_count": 27,
          "output_type": "execute_result",
          "data": {
            "text/plain": "4720"
          },
          "metadata": {}
        }
      ],
      "execution_count": null
    },
    {
      "cell_type": "code",
      "source": [
        "success = [ctrl_result.sum(),trt_result.sum()]\n",
        "success"
      ],
      "metadata": {
        "trusted": true,
        "execution": {
          "iopub.status.busy": "2025-01-24T15:31:48.781166Z",
          "iopub.execute_input": "2025-01-24T15:31:48.781789Z",
          "iopub.status.idle": "2025-01-24T15:31:48.79035Z",
          "shell.execute_reply.started": "2025-01-24T15:31:48.781751Z",
          "shell.execute_reply": "2025-01-24T15:31:48.78897Z"
        },
        "id": "FDVod0Ni-acu",
        "outputId": "f83c9fb8-8576-4c33-e44f-8cc2bc3aa0b8"
      },
      "outputs": [
        {
          "execution_count": 28,
          "output_type": "execute_result",
          "data": {
            "text/plain": "[542, 552]"
          },
          "metadata": {}
        }
      ],
      "execution_count": null
    },
    {
      "cell_type": "code",
      "source": [
        "nobs = [n_con,n_treat]\n",
        "nobs"
      ],
      "metadata": {
        "trusted": true,
        "execution": {
          "iopub.status.busy": "2025-01-24T15:32:23.427431Z",
          "iopub.execute_input": "2025-01-24T15:32:23.427823Z",
          "iopub.status.idle": "2025-01-24T15:32:23.434782Z",
          "shell.execute_reply.started": "2025-01-24T15:32:23.427796Z",
          "shell.execute_reply": "2025-01-24T15:32:23.433539Z"
        },
        "id": "aQRT5x1a-acu",
        "outputId": "a095f579-4635-4938-8e19-88b1525dfae5"
      },
      "outputs": [
        {
          "execution_count": 30,
          "output_type": "execute_result",
          "data": {
            "text/plain": "[4720, 4720]"
          },
          "metadata": {}
        }
      ],
      "execution_count": null
    },
    {
      "cell_type": "code",
      "source": [
        "z_stat, pval = proportions_ztest(success,nobs=nobs)\n",
        "(lower_con,lower_treat),(upper_con,upper_treat)=proportion_confint(success,nobs=nobs,alpha=0.05)\n",
        "\n",
        "print(f'z stat : {z_stat:.2f}')\n",
        "print(f'p-value:{pval:.4f}')\n",
        "print(f'ci 95% for control:[{lower_con:.3f},{upper_con:.3f}]')\n",
        "print(f'ci 95% for treatment:[{lower_treat:.3f},{upper_treat:.3f}]')"
      ],
      "metadata": {
        "trusted": true,
        "execution": {
          "iopub.status.busy": "2025-01-24T15:38:17.617581Z",
          "iopub.execute_input": "2025-01-24T15:38:17.618027Z",
          "iopub.status.idle": "2025-01-24T15:38:17.627479Z",
          "shell.execute_reply.started": "2025-01-24T15:38:17.617996Z",
          "shell.execute_reply": "2025-01-24T15:38:17.62602Z"
        },
        "id": "hwqiEIyu-acu",
        "outputId": "a8dd94d2-06e0-472c-c044-5e3d77743868"
      },
      "outputs": [
        {
          "name": "stdout",
          "text": "z stat : -0.32\np-value:0.7478\nci 95% for control:[0.106,0.124]\nci 95% for treatment:[0.108,0.126]\n",
          "output_type": "stream"
        }
      ],
      "execution_count": null
    },
    {
      "cell_type": "markdown",
      "source": [
        "we cannot reject the null hypothesis , which means that these two groups did not perform **significantly** different"
      ],
      "metadata": {
        "id": "3Sj-OIjC-acu"
      }
    },
    {
      "cell_type": "code",
      "source": [],
      "metadata": {
        "trusted": true,
        "id": "NleajrKc-acu"
      },
      "outputs": [],
      "execution_count": null
    }
  ]
}