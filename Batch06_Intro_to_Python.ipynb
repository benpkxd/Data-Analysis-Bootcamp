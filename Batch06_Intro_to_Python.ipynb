{
  "nbformat": 4,
  "nbformat_minor": 0,
  "metadata": {
    "colab": {
      "provenance": [],
      "authorship_tag": "ABX9TyM8qkhZBCxgPXbAZhtvZMVQ",
      "include_colab_link": true
    },
    "kernelspec": {
      "name": "python3",
      "display_name": "Python 3"
    },
    "language_info": {
      "name": "python"
    }
  },
  "cells": [
    {
      "cell_type": "markdown",
      "metadata": {
        "id": "view-in-github",
        "colab_type": "text"
      },
      "source": [
        "<a href=\"https://colab.research.google.com/github/benpkxd/Data-Analysis-Bootcamp/blob/main/Batch06_Intro_to_Python.ipynb\" target=\"_parent\"><img src=\"https://colab.research.google.com/assets/colab-badge.svg\" alt=\"Open In Colab\"/></a>"
      ]
    },
    {
      "cell_type": "markdown",
      "source": [
        "# Intro to Python programming"
      ],
      "metadata": {
        "id": "wec1VABcKYbn"
      }
    },
    {
      "cell_type": "code",
      "execution_count": null,
      "metadata": {
        "colab": {
          "base_uri": "https://localhost:8080/"
        },
        "id": "37gs1yT7JKpD",
        "outputId": "7f754448-dc03-4e95-81d1-a3978f005e50"
      },
      "outputs": [
        {
          "output_type": "stream",
          "name": "stdout",
          "text": [
            "\n",
            "Hello world\n",
            "3.3333333333333335\n",
            "3\n"
          ]
        }
      ],
      "source": [
        "print()\n",
        "print(\"Hello world\")\n",
        "print(10/3)\n",
        "print(10//3) #floor division"
      ]
    },
    {
      "cell_type": "markdown",
      "source": [
        "# ***core conccepts***\n",
        "- variable\n",
        "- data type\n",
        "- data structure\n",
        "- function\n",
        "- control flow"
      ],
      "metadata": {
        "id": "IqTpAkRpK3V6"
      }
    },
    {
      "cell_type": "code",
      "source": [
        "# variable\n",
        "my_name = \"Ben\"\n",
        "age = 31\n",
        "love_KFC = True"
      ],
      "metadata": {
        "id": "g9pMSEsdKrUT"
      },
      "execution_count": null,
      "outputs": []
    },
    {
      "cell_type": "code",
      "source": [
        "# del variable\n",
        "del my_name"
      ],
      "metadata": {
        "id": "lGWD5gD3LMpD"
      },
      "execution_count": null,
      "outputs": []
    },
    {
      "cell_type": "code",
      "source": [
        "#type\n",
        "# int str bool float\n",
        "type(age)\n",
        "x=\"100\"\n",
        "type(x)\n",
        "x = int(x)\n",
        "print(x, type(x))"
      ],
      "metadata": {
        "colab": {
          "base_uri": "https://localhost:8080/"
        },
        "id": "4B9k8Lw0LZoD",
        "outputId": "c584ae69-e8e9-4462-f12d-942d88475ad2"
      },
      "execution_count": null,
      "outputs": [
        {
          "output_type": "stream",
          "name": "stdout",
          "text": [
            "100 <class 'int'>\n"
          ]
        }
      ]
    },
    {
      "cell_type": "markdown",
      "source": [
        "# **Type Hint**\n"
      ],
      "metadata": {
        "id": "NzfkwH0HixSA"
      }
    },
    {
      "cell_type": "code",
      "source": [
        "name: int=25"
      ],
      "metadata": {
        "id": "LsVrZ0VDhmVC"
      },
      "execution_count": null,
      "outputs": []
    },
    {
      "cell_type": "code",
      "source": [
        "gpa: float=3.99\n",
        "print(name,gpa)"
      ],
      "metadata": {
        "colab": {
          "base_uri": "https://localhost:8080/"
        },
        "id": "S_js5_vGjBiC",
        "outputId": "76bea841-f63a-4ee2-cf9a-f06d09fdc258"
      },
      "execution_count": null,
      "outputs": [
        {
          "output_type": "stream",
          "name": "stdout",
          "text": [
            "25 3.99\n"
          ]
        }
      ]
    },
    {
      "cell_type": "markdown",
      "source": [
        "String Method\n",
        "method : function to create in class"
      ],
      "metadata": {
        "id": "tVHf-157jhm1"
      }
    },
    {
      "cell_type": "code",
      "source": [
        "text = \"Hello\"\n",
        "text.upper()\n"
      ],
      "metadata": {
        "colab": {
          "base_uri": "https://localhost:8080/",
          "height": 35
        },
        "id": "IzDVWFqEjJD8",
        "outputId": "356ec775-d3d7-4a3e-ccf5-0629cc657fa1"
      },
      "execution_count": null,
      "outputs": [
        {
          "output_type": "execute_result",
          "data": {
            "text/plain": [
              "'HELLO'"
            ],
            "application/vnd.google.colaboratory.intrinsic+json": {
              "type": "string"
            }
          },
          "metadata": {},
          "execution_count": 12
        }
      ]
    },
    {
      "cell_type": "code",
      "source": [
        "text.replace('Hello','hi') #case sensitive"
      ],
      "metadata": {
        "colab": {
          "base_uri": "https://localhost:8080/",
          "height": 35
        },
        "id": "bnt1-hlvj62a",
        "outputId": "dfca5d1b-5ea6-4718-9789-b2690acc8fb5"
      },
      "execution_count": null,
      "outputs": [
        {
          "output_type": "execute_result",
          "data": {
            "text/plain": [
              "'hi'"
            ],
            "application/vnd.google.colaboratory.intrinsic+json": {
              "type": "string"
            }
          },
          "metadata": {},
          "execution_count": 14
        }
      ]
    },
    {
      "cell_type": "code",
      "source": [
        "text.count(\"H\")"
      ],
      "metadata": {
        "colab": {
          "base_uri": "https://localhost:8080/"
        },
        "id": "V7tKjwOHkhtc",
        "outputId": "755e8027-c5cf-4947-e1bd-5baf88ac15ba"
      },
      "execution_count": null,
      "outputs": [
        {
          "output_type": "execute_result",
          "data": {
            "text/plain": [
              "1"
            ]
          },
          "metadata": {},
          "execution_count": 15
        }
      ]
    },
    {
      "cell_type": "code",
      "source": [
        "print(text.title())"
      ],
      "metadata": {
        "colab": {
          "base_uri": "https://localhost:8080/"
        },
        "id": "NO7MeImZkpiP",
        "outputId": "d6ed9931-90f4-475e-b83d-b16cee14c477"
      },
      "execution_count": null,
      "outputs": [
        {
          "output_type": "stream",
          "name": "stdout",
          "text": [
            "Hello\n"
          ]
        }
      ]
    },
    {
      "cell_type": "code",
      "source": [
        "text = \"A people live in unknown island\""
      ],
      "metadata": {
        "id": "eutAWFO-qFZ-"
      },
      "execution_count": null,
      "outputs": []
    },
    {
      "cell_type": "code",
      "source": [
        "text.split(\" \")"
      ],
      "metadata": {
        "colab": {
          "base_uri": "https://localhost:8080/"
        },
        "id": "ziQI1OgYqpLW",
        "outputId": "4eb9cbf8-5dc8-4d4a-e031-8922f469cb66"
      },
      "execution_count": null,
      "outputs": [
        {
          "output_type": "execute_result",
          "data": {
            "text/plain": [
              "['A', 'people', 'live', 'in', 'unknown', 'island']"
            ]
          },
          "metadata": {},
          "execution_count": 19
        }
      ]
    },
    {
      "cell_type": "markdown",
      "source": [
        "Slicing information"
      ],
      "metadata": {
        "id": "7cEuli_brBX5"
      }
    },
    {
      "cell_type": "code",
      "source": [
        "word = \"Hello World\""
      ],
      "metadata": {
        "id": "QSw_UwrFqrLR"
      },
      "execution_count": null,
      "outputs": []
    },
    {
      "cell_type": "code",
      "source": [
        "word[0]"
      ],
      "metadata": {
        "colab": {
          "base_uri": "https://localhost:8080/",
          "height": 35
        },
        "id": "oWNekUIWq8mH",
        "outputId": "5023c6cd-5e39-4d83-f1f7-79a969371e0d"
      },
      "execution_count": null,
      "outputs": [
        {
          "output_type": "execute_result",
          "data": {
            "text/plain": [
              "'H'"
            ],
            "application/vnd.google.colaboratory.intrinsic+json": {
              "type": "string"
            }
          },
          "metadata": {},
          "execution_count": 21
        }
      ]
    },
    {
      "cell_type": "code",
      "source": [
        "word[-1]"
      ],
      "metadata": {
        "colab": {
          "base_uri": "https://localhost:8080/",
          "height": 35
        },
        "id": "DV0IV_-Fq-3W",
        "outputId": "3bf727a2-b759-4bc2-fd8a-2846e22b3ba7"
      },
      "execution_count": null,
      "outputs": [
        {
          "output_type": "execute_result",
          "data": {
            "text/plain": [
              "'d'"
            ],
            "application/vnd.google.colaboratory.intrinsic+json": {
              "type": "string"
            }
          },
          "metadata": {},
          "execution_count": 22
        }
      ]
    },
    {
      "cell_type": "code",
      "source": [
        "word[0:3]"
      ],
      "metadata": {
        "colab": {
          "base_uri": "https://localhost:8080/",
          "height": 35
        },
        "id": "NDjMFM56rIh4",
        "outputId": "9acf78ff-db7a-4c7c-b622-1d617756570f"
      },
      "execution_count": null,
      "outputs": [
        {
          "output_type": "execute_result",
          "data": {
            "text/plain": [
              "'Hel'"
            ],
            "application/vnd.google.colaboratory.intrinsic+json": {
              "type": "string"
            }
          },
          "metadata": {},
          "execution_count": 24
        }
      ]
    },
    {
      "cell_type": "code",
      "source": [
        "word.split(\" \")[0]"
      ],
      "metadata": {
        "colab": {
          "base_uri": "https://localhost:8080/",
          "height": 35
        },
        "id": "pVUDh120rMNP",
        "outputId": "ca202262-ed2b-4148-bdd5-cce254c236a6"
      },
      "execution_count": null,
      "outputs": [
        {
          "output_type": "execute_result",
          "data": {
            "text/plain": [
              "'Hello'"
            ],
            "application/vnd.google.colaboratory.intrinsic+json": {
              "type": "string"
            }
          },
          "metadata": {},
          "execution_count": 27
        }
      ]
    },
    {
      "cell_type": "code",
      "source": [
        "word[6:]"
      ],
      "metadata": {
        "colab": {
          "base_uri": "https://localhost:8080/",
          "height": 35
        },
        "id": "uUOxR4X3rxCB",
        "outputId": "fc01d118-12ae-4b52-c32c-f5f9c30e0e25"
      },
      "execution_count": null,
      "outputs": [
        {
          "output_type": "execute_result",
          "data": {
            "text/plain": [
              "'World'"
            ],
            "application/vnd.google.colaboratory.intrinsic+json": {
              "type": "string"
            }
          },
          "metadata": {},
          "execution_count": 28
        }
      ]
    },
    {
      "cell_type": "code",
      "source": [
        "# immutable object"
      ],
      "metadata": {
        "id": "jtate5ABr112"
      },
      "execution_count": null,
      "outputs": []
    },
    {
      "cell_type": "code",
      "source": [
        "#string concatenation\n",
        "\"Hello\" + \"World\""
      ],
      "metadata": {
        "colab": {
          "base_uri": "https://localhost:8080/",
          "height": 35
        },
        "id": "MlCKzwU6saY0",
        "outputId": "89991f8e-0c8b-44d5-c40e-6c6741fbf170"
      },
      "execution_count": null,
      "outputs": [
        {
          "output_type": "execute_result",
          "data": {
            "text/plain": [
              "'HelloWorld'"
            ],
            "application/vnd.google.colaboratory.intrinsic+json": {
              "type": "string"
            }
          },
          "metadata": {},
          "execution_count": 29
        }
      ]
    },
    {
      "cell_type": "markdown",
      "source": [
        "# Data structures\n",
        "- list [] , mutable object: can update\n",
        "- tuple () , immutable object\n",
        "- dictionary {key:value} , mutable object\n",
        "- set {}"
      ],
      "metadata": {
        "id": "X-MumClBuSP3"
      }
    },
    {
      "cell_type": "code",
      "source": [
        "shopping_item = ['egg','bread','noodle','milk']"
      ],
      "metadata": {
        "id": "KeXTfHbmsj1O"
      },
      "execution_count": null,
      "outputs": []
    },
    {
      "cell_type": "code",
      "source": [
        "#append\n",
        "shopping_item.append(\"jam\")"
      ],
      "metadata": {
        "id": "FX7e98BpuQ4z"
      },
      "execution_count": null,
      "outputs": []
    },
    {
      "cell_type": "code",
      "source": [
        "#pop\n",
        "shopping_item.pop"
      ],
      "metadata": {
        "colab": {
          "base_uri": "https://localhost:8080/"
        },
        "id": "25ebwMhdvSer",
        "outputId": "0194b548-802f-4470-b26b-f446ed63ae10"
      },
      "execution_count": null,
      "outputs": [
        {
          "output_type": "execute_result",
          "data": {
            "text/plain": [
              "<function list.pop(index=-1, /)>"
            ]
          },
          "metadata": {},
          "execution_count": 32
        }
      ]
    },
    {
      "cell_type": "code",
      "source": [
        "shopping_item.pop(3)\n",
        "shopping_item"
      ],
      "metadata": {
        "colab": {
          "base_uri": "https://localhost:8080/"
        },
        "id": "fu1rbkNLvcEY",
        "outputId": "83dd337c-7882-4bb2-e4e2-c1425a6f0e6a"
      },
      "execution_count": null,
      "outputs": [
        {
          "output_type": "execute_result",
          "data": {
            "text/plain": [
              "['egg', 'bread', 'noodle']"
            ]
          },
          "metadata": {},
          "execution_count": 34
        }
      ]
    },
    {
      "cell_type": "code",
      "source": [
        "shopping_item.count('noodle')"
      ],
      "metadata": {
        "colab": {
          "base_uri": "https://localhost:8080/"
        },
        "id": "dtRr6ncbvsr6",
        "outputId": "b91c9f32-9f57-43f3-f8e7-4f4a73f0dd48"
      },
      "execution_count": null,
      "outputs": [
        {
          "output_type": "execute_result",
          "data": {
            "text/plain": [
              "1"
            ]
          },
          "metadata": {},
          "execution_count": 35
        }
      ]
    },
    {
      "cell_type": "code",
      "source": [
        "# variable just refrence not copy so ..\n",
        "shopping_item2 = shopping_item.copy()\n",
        "shopping_item2[0]= 'change'"
      ],
      "metadata": {
        "id": "PemRAF6mvzr6"
      },
      "execution_count": null,
      "outputs": []
    },
    {
      "cell_type": "code",
      "source": [
        "print(shopping_item,shopping_item2)"
      ],
      "metadata": {
        "colab": {
          "base_uri": "https://localhost:8080/"
        },
        "id": "OKWHQES2wnEb",
        "outputId": "c47db3fd-3433-4d78-fb44-1f381867df70"
      },
      "execution_count": null,
      "outputs": [
        {
          "output_type": "stream",
          "name": "stdout",
          "text": [
            "['egg', 'bread', 'noodle'] ['change', 'bread', 'noodle']\n"
          ]
        }
      ]
    },
    {
      "cell_type": "code",
      "source": [
        "students = [\n",
        "    ('ben',88),\n",
        "    ('mary',90),\n",
        "    ('john',60)\n",
        "]"
      ],
      "metadata": {
        "id": "DqlaxMn8w4p3"
      },
      "execution_count": null,
      "outputs": []
    },
    {
      "cell_type": "code",
      "source": [
        "len(students)"
      ],
      "metadata": {
        "colab": {
          "base_uri": "https://localhost:8080/"
        },
        "id": "De8I5rRrxQf7",
        "outputId": "e169b7f2-1d3b-40e1-f348-7394efa42a12"
      },
      "execution_count": null,
      "outputs": [
        {
          "output_type": "execute_result",
          "data": {
            "text/plain": [
              "3"
            ]
          },
          "metadata": {},
          "execution_count": 42
        }
      ]
    },
    {
      "cell_type": "code",
      "source": [
        "students[2]"
      ],
      "metadata": {
        "colab": {
          "base_uri": "https://localhost:8080/"
        },
        "id": "62lLxs_1xTDw",
        "outputId": "7fb65f9c-0051-410a-b400-b28394a59271"
      },
      "execution_count": null,
      "outputs": [
        {
          "output_type": "execute_result",
          "data": {
            "text/plain": [
              "('john', 60)"
            ]
          },
          "metadata": {},
          "execution_count": 44
        }
      ]
    },
    {
      "cell_type": "code",
      "source": [
        "students[2][1]"
      ],
      "metadata": {
        "colab": {
          "base_uri": "https://localhost:8080/"
        },
        "id": "0H8znnY-xboC",
        "outputId": "5337ee49-0254-48f7-b064-b74d8f5e6d34"
      },
      "execution_count": null,
      "outputs": [
        {
          "output_type": "execute_result",
          "data": {
            "text/plain": [
              "60"
            ]
          },
          "metadata": {},
          "execution_count": 47
        }
      ]
    },
    {
      "cell_type": "code",
      "source": [
        "# tuple\n",
        "data = (1,2,3,'ben')"
      ],
      "metadata": {
        "id": "jV8_SPBnxjCj"
      },
      "execution_count": null,
      "outputs": []
    },
    {
      "cell_type": "code",
      "source": [
        "type(data)"
      ],
      "metadata": {
        "colab": {
          "base_uri": "https://localhost:8080/"
        },
        "id": "Mypp0PH1x_X0",
        "outputId": "c498852f-a9d6-46ef-aa4d-37b3a3edac09"
      },
      "execution_count": null,
      "outputs": [
        {
          "output_type": "execute_result",
          "data": {
            "text/plain": [
              "tuple"
            ]
          },
          "metadata": {},
          "execution_count": 49
        }
      ]
    },
    {
      "cell_type": "code",
      "source": [
        "students = (\n",
        "    ('ben',88),\n",
        "     ('mary',90),\n",
        "    ('john',60)\n",
        ")"
      ],
      "metadata": {
        "id": "J1aPIAmdyBkJ"
      },
      "execution_count": null,
      "outputs": []
    },
    {
      "cell_type": "code",
      "source": [
        "type(students) #seem like list but cannot update"
      ],
      "metadata": {
        "colab": {
          "base_uri": "https://localhost:8080/"
        },
        "id": "VoBOK3EW0LNy",
        "outputId": "f5c85cbc-22d7-4552-adfe-2ec8c587884f"
      },
      "execution_count": null,
      "outputs": [
        {
          "output_type": "execute_result",
          "data": {
            "text/plain": [
              "tuple"
            ]
          },
          "metadata": {},
          "execution_count": 51
        }
      ]
    },
    {
      "cell_type": "code",
      "source": [
        "# Dictionary\n",
        "Customer = {\n",
        "    'Name': 'Pakakorn',\n",
        "    'Age': 31,\n",
        "    'Male': True,\n",
        "    'Fav':['ABC','HIJ']\n",
        "}"
      ],
      "metadata": {
        "id": "EC5g8XHx0Nz7"
      },
      "execution_count": null,
      "outputs": []
    },
    {
      "cell_type": "code",
      "source": [
        "Customer['Fav']"
      ],
      "metadata": {
        "colab": {
          "base_uri": "https://localhost:8080/"
        },
        "id": "CA1sqRcj0WC4",
        "outputId": "fca5dc0c-c8ff-4c29-ba3e-dedd93b8dc21"
      },
      "execution_count": null,
      "outputs": [
        {
          "output_type": "execute_result",
          "data": {
            "text/plain": [
              "['ABC', 'HIJ']"
            ]
          },
          "metadata": {},
          "execution_count": 55
        }
      ]
    },
    {
      "cell_type": "code",
      "source": [
        "Customer['Fav'][0]"
      ],
      "metadata": {
        "colab": {
          "base_uri": "https://localhost:8080/",
          "height": 35
        },
        "id": "8vr3B6hJ02xR",
        "outputId": "d82e4e2e-e767-456b-ca57-a8d426a5c989"
      },
      "execution_count": null,
      "outputs": [
        {
          "output_type": "execute_result",
          "data": {
            "text/plain": [
              "'ABC'"
            ],
            "application/vnd.google.colaboratory.intrinsic+json": {
              "type": "string"
            }
          },
          "metadata": {},
          "execution_count": 56
        }
      ]
    },
    {
      "cell_type": "code",
      "source": [
        "Customer['Fav'][0] = 'XYZ'\n",
        "Customer"
      ],
      "metadata": {
        "colab": {
          "base_uri": "https://localhost:8080/"
        },
        "id": "FjyukFeh08TD",
        "outputId": "d59e6026-a9a3-482a-856b-271c1861cfb5"
      },
      "execution_count": null,
      "outputs": [
        {
          "output_type": "execute_result",
          "data": {
            "text/plain": [
              "{'Name': 'Pakakorn', 'Age': 31, 'Male': True, 'Fav': ['XYZ', 'HIJ']}"
            ]
          },
          "metadata": {},
          "execution_count": 57
        }
      ]
    },
    {
      "cell_type": "code",
      "source": [
        "'Fav' in Customer"
      ],
      "metadata": {
        "colab": {
          "base_uri": "https://localhost:8080/"
        },
        "id": "HVHSQW9-1J1s",
        "outputId": "4d72b8cf-c258-415f-e233-70c24c1a7769"
      },
      "execution_count": null,
      "outputs": [
        {
          "output_type": "execute_result",
          "data": {
            "text/plain": [
              "True"
            ]
          },
          "metadata": {},
          "execution_count": 58
        }
      ]
    },
    {
      "cell_type": "code",
      "source": [
        "if 'Country' not in Customer:\n",
        "  Customer['Country'] = 'UK'"
      ],
      "metadata": {
        "id": "DLlQriUG1hFg"
      },
      "execution_count": null,
      "outputs": []
    },
    {
      "cell_type": "code",
      "source": [
        "Customer"
      ],
      "metadata": {
        "colab": {
          "base_uri": "https://localhost:8080/"
        },
        "id": "CE1JuD5F1vGs",
        "outputId": "540f1c0f-c6e2-46b2-8b61-bdd7213a253f"
      },
      "execution_count": null,
      "outputs": [
        {
          "output_type": "execute_result",
          "data": {
            "text/plain": [
              "{'Name': 'Pakakorn',\n",
              " 'Age': 31,\n",
              " 'Male': True,\n",
              " 'Fav': ['XYZ', 'HIJ'],\n",
              " 'Country': 'UK'}"
            ]
          },
          "metadata": {},
          "execution_count": 60
        }
      ]
    },
    {
      "cell_type": "code",
      "source": [
        "del Customer['Country']"
      ],
      "metadata": {
        "id": "ZO2v_3vx1wMR"
      },
      "execution_count": null,
      "outputs": []
    },
    {
      "cell_type": "code",
      "source": [
        "Customer.keys()"
      ],
      "metadata": {
        "colab": {
          "base_uri": "https://localhost:8080/"
        },
        "id": "dRR2PTi82Qnd",
        "outputId": "d45d6b61-3b38-47c7-ad29-3a7b0ed80a69"
      },
      "execution_count": null,
      "outputs": [
        {
          "output_type": "execute_result",
          "data": {
            "text/plain": [
              "dict_keys(['Name', 'Age', 'Male', 'Fav'])"
            ]
          },
          "metadata": {},
          "execution_count": 62
        }
      ]
    },
    {
      "cell_type": "code",
      "source": [
        "Customer.values()"
      ],
      "metadata": {
        "colab": {
          "base_uri": "https://localhost:8080/"
        },
        "id": "d8Y3bf5m2Wd-",
        "outputId": "b08904e6-4ac9-4ace-b7a7-ce9db3d2a8df"
      },
      "execution_count": null,
      "outputs": [
        {
          "output_type": "execute_result",
          "data": {
            "text/plain": [
              "dict_values(['Pakakorn', 31, True, ['XYZ', 'HIJ']])"
            ]
          },
          "metadata": {},
          "execution_count": 63
        }
      ]
    },
    {
      "cell_type": "code",
      "source": [
        "list(Customer.items())"
      ],
      "metadata": {
        "colab": {
          "base_uri": "https://localhost:8080/"
        },
        "id": "xqZCFeJl2amL",
        "outputId": "3ce38e1b-89a8-46e5-9528-dd3f505b58d1"
      },
      "execution_count": null,
      "outputs": [
        {
          "output_type": "execute_result",
          "data": {
            "text/plain": [
              "[('Name', 'Pakakorn'), ('Age', 31), ('Male', True), ('Fav', ['XYZ', 'HIJ'])]"
            ]
          },
          "metadata": {},
          "execution_count": 66
        }
      ]
    },
    {
      "cell_type": "code",
      "source": [
        "#set => onj is find the unique values\n",
        "fruits = ['banana','apple','mango','lemon','banana']"
      ],
      "metadata": {
        "id": "lIxWbQDy2fh7"
      },
      "execution_count": null,
      "outputs": []
    },
    {
      "cell_type": "code",
      "source": [
        "set(fruits)"
      ],
      "metadata": {
        "colab": {
          "base_uri": "https://localhost:8080/"
        },
        "id": "HpjtJs2k3Dhb",
        "outputId": "050c8dc4-1dbc-47de-c07c-b57fd5e6726f"
      },
      "execution_count": null,
      "outputs": [
        {
          "output_type": "execute_result",
          "data": {
            "text/plain": [
              "{'apple', 'banana', 'lemon', 'mango'}"
            ]
          },
          "metadata": {},
          "execution_count": 69
        }
      ]
    },
    {
      "cell_type": "code",
      "source": [
        "set_fruits = set(fruits)"
      ],
      "metadata": {
        "id": "Nk9_88P13J3B"
      },
      "execution_count": null,
      "outputs": []
    },
    {
      "cell_type": "code",
      "source": [
        "set_fruits.add('grape')\n",
        "set_fruits"
      ],
      "metadata": {
        "colab": {
          "base_uri": "https://localhost:8080/"
        },
        "id": "-igU51Ze3Yga",
        "outputId": "1daba5bc-1e99-4fe4-9be8-a5c9cdedc6ac"
      },
      "execution_count": null,
      "outputs": [
        {
          "output_type": "execute_result",
          "data": {
            "text/plain": [
              "{'apple', 'banana', 'grape', 'lemon', 'mango'}"
            ]
          },
          "metadata": {},
          "execution_count": 71
        }
      ]
    },
    {
      "cell_type": "code",
      "source": [
        "#other : intesection , union"
      ],
      "metadata": {
        "id": "Glz4dzJv3cO3"
      },
      "execution_count": null,
      "outputs": []
    },
    {
      "cell_type": "code",
      "source": [
        "#function\n",
        "#create def\n",
        "def greeting():\n",
        "  print(\"Hello World\")\n",
        "greeting()"
      ],
      "metadata": {
        "colab": {
          "base_uri": "https://localhost:8080/"
        },
        "id": "oBpcYrv334J-",
        "outputId": "7e65fe5f-13ea-4cb0-c7be-b6b466cb2907"
      },
      "execution_count": null,
      "outputs": [
        {
          "output_type": "stream",
          "name": "stdout",
          "text": [
            "Hello World\n"
          ]
        }
      ]
    },
    {
      "cell_type": "code",
      "source": [
        "def greeting_name(name):\n",
        "  print(f\"Hello{name}!\")\n",
        "greeting_name(\"Ben\")"
      ],
      "metadata": {
        "colab": {
          "base_uri": "https://localhost:8080/"
        },
        "id": "fc163dIVIi0N",
        "outputId": "271f38e3-4a8e-4b5d-9dd7-b1e407a8ea9f"
      },
      "execution_count": null,
      "outputs": [
        {
          "output_type": "stream",
          "name": "stdout",
          "text": [
            "HelloBen!\n"
          ]
        }
      ]
    },
    {
      "cell_type": "code",
      "source": [
        "def greeting_name(name: str):\n",
        "  print(f\"Hello{name}!\")\n",
        "greeting_name(\"Ben\")"
      ],
      "metadata": {
        "colab": {
          "base_uri": "https://localhost:8080/"
        },
        "id": "H6fKi62TIvwX",
        "outputId": "abd4e9d2-03b0-4216-d362-7da2821bf99c"
      },
      "execution_count": null,
      "outputs": [
        {
          "output_type": "stream",
          "name": "stdout",
          "text": [
            "HelloBen!\n"
          ]
        }
      ]
    },
    {
      "cell_type": "code",
      "source": [
        "def add_two (x,y):\n",
        "  return x+y\n",
        "add_two(2,5)"
      ],
      "metadata": {
        "colab": {
          "base_uri": "https://localhost:8080/"
        },
        "id": "wZqUoTkcJFHI",
        "outputId": "4d636108-acd3-42b9-9735-329590a04415"
      },
      "execution_count": null,
      "outputs": [
        {
          "output_type": "execute_result",
          "data": {
            "text/plain": [
              "7"
            ]
          },
          "metadata": {},
          "execution_count": 77
        }
      ]
    },
    {
      "cell_type": "code",
      "source": [
        "# lambda function\n",
        "greeting = lambda name: print(f\"Hello {name}\")"
      ],
      "metadata": {
        "id": "697pefydJ2z6"
      },
      "execution_count": null,
      "outputs": []
    },
    {
      "cell_type": "code",
      "source": [
        "#default arguments\n",
        "def cube(base,pow):\n",
        "  return base ** pow"
      ],
      "metadata": {
        "id": "4-vJTMDmKNgm"
      },
      "execution_count": null,
      "outputs": []
    },
    {
      "cell_type": "code",
      "source": [
        "cube(base=2,pow=5)"
      ],
      "metadata": {
        "colab": {
          "base_uri": "https://localhost:8080/"
        },
        "id": "1gK61QG4KpVe",
        "outputId": "af267ecd-a89a-4578-df6b-d64a03d0f25d"
      },
      "execution_count": null,
      "outputs": [
        {
          "output_type": "execute_result",
          "data": {
            "text/plain": [
              "32"
            ]
          },
          "metadata": {},
          "execution_count": 80
        }
      ]
    },
    {
      "cell_type": "code",
      "source": [
        "#Control Flow\n",
        "score = int(input(\"Score : \")) #100\n",
        "\n",
        "if score >= 80:\n",
        "  print(\"passed\")\n",
        "else:\n",
        "  print(\"failed\")"
      ],
      "metadata": {
        "colab": {
          "base_uri": "https://localhost:8080/"
        },
        "id": "XAb8qPbYKsqJ",
        "outputId": "56a65f54-097c-4b42-b4d3-ba374023ce9d"
      },
      "execution_count": null,
      "outputs": [
        {
          "output_type": "stream",
          "name": "stdout",
          "text": [
            "Score : 90\n",
            "passed\n"
          ]
        }
      ]
    },
    {
      "cell_type": "code",
      "source": [
        "def grading(score:int)->None:\n",
        "  if score >= 80:\n",
        "    print(\"Distinction\")\n",
        "  elif score >=50:\n",
        "    print(\"passed\")\n",
        "  else:\n",
        "    print(\"failed\")\n",
        "grading(50)"
      ],
      "metadata": {
        "colab": {
          "base_uri": "https://localhost:8080/"
        },
        "id": "x6e1wq43HyKb",
        "outputId": "156d900c-3823-4e4a-b602-f44666d181fc"
      },
      "execution_count": null,
      "outputs": [
        {
          "output_type": "stream",
          "name": "stdout",
          "text": [
            "passed\n"
          ]
        }
      ]
    },
    {
      "cell_type": "code",
      "source": [
        "#for loop\n",
        "shopping_list = ['egg','milk','bread']\n",
        "new_list = [] #empty list\n",
        "for item in shopping_list:\n",
        "  #print(f\"I have to buy {item.upper()}\")\n",
        "  new_list.append(item.upper())\n",
        "print(new_list)"
      ],
      "metadata": {
        "colab": {
          "base_uri": "https://localhost:8080/"
        },
        "id": "gLCgn4LzIufS",
        "outputId": "cae34ffb-f84c-4888-8bb2-f8a09325c3b3"
      },
      "execution_count": null,
      "outputs": [
        {
          "output_type": "stream",
          "name": "stdout",
          "text": [
            "['EGG', 'MILK', 'BREAD']\n"
          ]
        }
      ]
    },
    {
      "cell_type": "code",
      "source": [
        "#list comprehension\n",
        "shopping_list = ['egg','milk','bread']\n",
        "new_list = [ item.upper() for item in shopping_list]\n",
        "print(new_list)"
      ],
      "metadata": {
        "colab": {
          "base_uri": "https://localhost:8080/"
        },
        "id": "vDcXwLHIKUN3",
        "outputId": "196b0673-5e8f-41aa-ea77-fa7307cfc055"
      },
      "execution_count": null,
      "outputs": [
        {
          "output_type": "stream",
          "name": "stdout",
          "text": [
            "['EGG', 'MILK', 'BREAD']\n"
          ]
        }
      ]
    },
    {
      "cell_type": "code",
      "source": [
        "#if-else + for loop\n",
        "scores = [95,90,75,79,82]\n",
        "grades=[]\n",
        "for score in scores:\n",
        "  if score >= 80:\n",
        "    grades.append(\"Passed\")\n",
        "  else:\n",
        "    grades.append(\"Failed\")\n",
        "\n",
        "print(grades)"
      ],
      "metadata": {
        "colab": {
          "base_uri": "https://localhost:8080/"
        },
        "id": "xfUr0TJcK_Tm",
        "outputId": "eef1f132-bca9-433f-f418-8c89d598cbb3"
      },
      "execution_count": null,
      "outputs": [
        {
          "output_type": "stream",
          "name": "stdout",
          "text": [
            "['Passed', 'Passed', 'Failed', 'Failed', 'Passed']\n"
          ]
        }
      ]
    },
    {
      "cell_type": "code",
      "source": [
        "#while loop\n",
        "count = 0\n",
        "\n",
        "while count < 5 :\n",
        "  print(\"Hello\")\n",
        "  count = count +1 "
      ],
      "metadata": {
        "colab": {
          "base_uri": "https://localhost:8080/"
        },
        "id": "73zl18z1Loju",
        "outputId": "766d1444-6471-4ea3-d6bd-e6c937f191bd"
      },
      "execution_count": null,
      "outputs": [
        {
          "output_type": "stream",
          "name": "stdout",
          "text": [
            "Hello\n",
            "Hello\n",
            "Hello\n",
            "Hello\n",
            "Hello\n"
          ]
        }
      ]
    },
    {
      "cell_type": "code",
      "source": [
        "count = 0\n",
        "\n",
        "while count < 5 :\n",
        "  print(\"Hello\",count)\n",
        "  count += 1  #avoid to infinite loop"
      ],
      "metadata": {
        "colab": {
          "base_uri": "https://localhost:8080/"
        },
        "id": "fsoKWIhWL91n",
        "outputId": "6f832ca7-c2da-4af4-a1fb-0d9000ec50ea"
      },
      "execution_count": null,
      "outputs": [
        {
          "output_type": "stream",
          "name": "stdout",
          "text": [
            "Hello 0\n",
            "Hello 1\n",
            "Hello 2\n",
            "Hello 3\n",
            "Hello 4\n"
          ]
        }
      ]
    },
    {
      "cell_type": "code",
      "source": [
        "#multiple conditions\n",
        "#while loop\n",
        "count = 0\n",
        "while True:\n",
        "  print(count)\n",
        "  count +=1\n",
        "  if count == 10:\n",
        "    print(\"Program Ends.\")\n",
        "    break"
      ],
      "metadata": {
        "colab": {
          "base_uri": "https://localhost:8080/"
        },
        "id": "uay0GJ4ZMDlk",
        "outputId": "328d788f-07d8-4366-dcdd-f3f911b284eb"
      },
      "execution_count": null,
      "outputs": [
        {
          "output_type": "stream",
          "name": "stdout",
          "text": [
            "0\n",
            "1\n",
            "2\n",
            "3\n",
            "4\n",
            "5\n",
            "6\n",
            "7\n",
            "8\n",
            "9\n",
            "Program Ends.\n"
          ]
        }
      ]
    },
    {
      "cell_type": "code",
      "source": [
        "#OOP\n",
        "class Dog:\n",
        "  def __init__(self,name,age,color):\n",
        "    self.name = name\n",
        "    self.age = age\n",
        "    self.color = color\n",
        "  def hello(self):\n",
        "    print(f\"my name is {self.name}\")\n",
        "  def getold(self):\n",
        "    self.age +=1\n",
        "    print(f\"i'm now {self.age}\")\n"
      ],
      "metadata": {
        "id": "uim1ijflNE2w"
      },
      "execution_count": null,
      "outputs": []
    },
    {
      "cell_type": "code",
      "source": [
        "dog1 = Dog(\"milo\",2,\"black\")\n",
        "dog1.hello()"
      ],
      "metadata": {
        "colab": {
          "base_uri": "https://localhost:8080/"
        },
        "id": "CvGNmhY2N7h2",
        "outputId": "2eab034f-7603-40d3-8d13-84e85959624d"
      },
      "execution_count": null,
      "outputs": [
        {
          "output_type": "stream",
          "name": "stdout",
          "text": [
            "my name is milo\n"
          ]
        }
      ]
    },
    {
      "cell_type": "code",
      "source": [
        "dog1.color"
      ],
      "metadata": {
        "colab": {
          "base_uri": "https://localhost:8080/",
          "height": 35
        },
        "id": "07KYqv6vN-gx",
        "outputId": "4e94ee86-d8d6-4fa0-e150-f8c272f0710f"
      },
      "execution_count": null,
      "outputs": [
        {
          "output_type": "execute_result",
          "data": {
            "text/plain": [
              "'black'"
            ],
            "application/vnd.google.colaboratory.intrinsic+json": {
              "type": "string"
            }
          },
          "metadata": {},
          "execution_count": 34
        }
      ]
    },
    {
      "cell_type": "code",
      "source": [
        "dog2 = Dog(\"espresso\",3,\"white\")\n",
        "dog2.getold()"
      ],
      "metadata": {
        "colab": {
          "base_uri": "https://localhost:8080/"
        },
        "id": "yy9sOhjIN_sg",
        "outputId": "a7b47706-3aa4-4d6f-a917-9f4ec97e81c5"
      },
      "execution_count": null,
      "outputs": [
        {
          "output_type": "stream",
          "name": "stdout",
          "text": [
            "i'm now 4\n"
          ]
        }
      ]
    },
    {
      "cell_type": "code",
      "source": [
        "# ATM\n",
        "class ATM:\n",
        "  def __init__(self,name,balance):\n",
        "    self.name = name\n",
        "    self.balance = balance\n",
        "  \n",
        "  def check_balance(self):\n",
        "    message = f\"Account: {self.name} , Balance: {self.balance}\"\n",
        "    print(message)\n",
        "  def deposit(self, money):\n",
        "    self.balance += money\n",
        "    print(f\"New balance : {self.balance}\")\n",
        "    print(\"Deposit successfully\")\n",
        "  def change_name(self,newname):\n",
        "    self.name = newname\n",
        "    print(f\"New name: {self.name}\")"
      ],
      "metadata": {
        "id": "NpvHHDxnP0ME"
      },
      "execution_count": null,
      "outputs": []
    },
    {
      "cell_type": "code",
      "source": [
        "  scb = ATM(\"ben\",500)\n",
        "  scb.check_balance()"
      ],
      "metadata": {
        "colab": {
          "base_uri": "https://localhost:8080/"
        },
        "id": "mtR3hpO8QsoA",
        "outputId": "0853aadd-4f38-4398-9cb2-3a5ed3e214d0"
      },
      "execution_count": null,
      "outputs": [
        {
          "output_type": "stream",
          "name": "stdout",
          "text": [
            "Account: ben , Balance: 500\n"
          ]
        }
      ]
    },
    {
      "cell_type": "code",
      "source": [
        "scb.deposit(1000)"
      ],
      "metadata": {
        "colab": {
          "base_uri": "https://localhost:8080/"
        },
        "id": "VgwdgjhMRFHU",
        "outputId": "8f56d459-22d4-4b3d-acbd-bba4200e929f"
      },
      "execution_count": null,
      "outputs": [
        {
          "output_type": "stream",
          "name": "stdout",
          "text": [
            "New balance : 1500\n",
            "Deposit successfully\n"
          ]
        }
      ]
    },
    {
      "cell_type": "code",
      "source": [
        "scb.change_name(\"Benz\")"
      ],
      "metadata": {
        "colab": {
          "base_uri": "https://localhost:8080/"
        },
        "id": "4CB0NLqCRkja",
        "outputId": "10e22b6c-2ce7-4c65-ebf7-b744c67aee67"
      },
      "execution_count": null,
      "outputs": [
        {
          "output_type": "stream",
          "name": "stdout",
          "text": [
            "New name: Benz\n"
          ]
        }
      ]
    },
    {
      "cell_type": "code",
      "source": [
        "scb.check_balance()"
      ],
      "metadata": {
        "colab": {
          "base_uri": "https://localhost:8080/"
        },
        "id": "fD6BG1qwR3cH",
        "outputId": "d984806b-d6b4-47c7-f005-2ab01e229e10"
      },
      "execution_count": null,
      "outputs": [
        {
          "output_type": "stream",
          "name": "stdout",
          "text": [
            "Account: Benz , Balance: 1500\n"
          ]
        }
      ]
    },
    {
      "cell_type": "code",
      "source": [],
      "metadata": {
        "id": "Hzm2SFalSd-G"
      },
      "execution_count": null,
      "outputs": []
    }
  ]
}