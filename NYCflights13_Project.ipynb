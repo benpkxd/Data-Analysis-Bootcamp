{
  "nbformat": 4,
  "nbformat_minor": 0,
  "metadata": {
    "colab": {
      "provenance": [],
      "authorship_tag": "ABX9TyPPLkoEu9cWCwzoyaMDjxaj",
      "include_colab_link": true
    },
    "kernelspec": {
      "name": "ir",
      "display_name": "R"
    },
    "language_info": {
      "name": "R"
    }
  },
  "cells": [
    {
      "cell_type": "markdown",
      "metadata": {
        "id": "view-in-github",
        "colab_type": "text"
      },
      "source": [
        "<a href=\"https://colab.research.google.com/github/benpkxd/Data-Analysis-Bootcamp/blob/main/NYCflights13_Project.ipynb\" target=\"_parent\"><img src=\"https://colab.research.google.com/assets/colab-badge.svg\" alt=\"Open In Colab\"/></a>"
      ]
    },
    {
      "cell_type": "markdown",
      "source": [
        "**R_Data_Transformation**\n",
        "\n",
        "\n",
        "> Description :: 5 basic questions to find insight 🧠\n",
        "\n",
        "Case Study - NYC Flight13 ✈\n",
        "\n",
        "\n",
        "*   Q1: Which carriers are in the top3 the most airtime since Feb to Aug ?\n",
        "*   Q2: Please detail the flights depart to chongqing \n",
        "*   Q3: How long from JFK depart to ORD? (Answer with mean)\n",
        "*   Q4: Please summarize departure_delay in each timezone\n",
        "*   Q5: Which carrier is the Most , the Least flights , Longest ,Shortest flights\n",
        "\n",
        "\n",
        "\n"
      ],
      "metadata": {
        "id": "mwJT3tUh9CRe"
      }
    },
    {
      "cell_type": "markdown",
      "source": [
        "### Import dataset"
      ],
      "metadata": {
        "id": "QioZhlFeRFlp"
      }
    },
    {
      "cell_type": "code",
      "source": [
        "install.packages(\"nycflights13\")\n",
        "install.packages(\"tidyverse\")"
      ],
      "metadata": {
        "colab": {
          "base_uri": "https://localhost:8080/"
        },
        "id": "z5uxxXMd-JUS",
        "outputId": "542e143a-04b2-40cf-eba3-8c0291172b6d"
      },
      "execution_count": null,
      "outputs": [
        {
          "output_type": "stream",
          "name": "stderr",
          "text": [
            "Installing package into ‘/usr/local/lib/R/site-library’\n",
            "(as ‘lib’ is unspecified)\n",
            "\n",
            "Installing package into ‘/usr/local/lib/R/site-library’\n",
            "(as ‘lib’ is unspecified)\n",
            "\n"
          ]
        }
      ]
    },
    {
      "cell_type": "code",
      "source": [
        "library(tidyverse)\n",
        "library(nycflights13)"
      ],
      "metadata": {
        "id": "1R5B73JENhO-",
        "colab": {
          "base_uri": "https://localhost:8080/"
        },
        "outputId": "30348f9b-3b73-4c39-ffbe-7a4bf693ef19"
      },
      "execution_count": null,
      "outputs": [
        {
          "output_type": "stream",
          "name": "stderr",
          "text": [
            "Warning message in system(\"timedatectl\", intern = TRUE):\n",
            "“running command 'timedatectl' had status 1”\n",
            "── \u001b[1mAttaching packages\u001b[22m ─────────────────────────────────────── tidyverse 1.3.2 ──\n",
            "\u001b[32m✔\u001b[39m \u001b[34mggplot2\u001b[39m 3.3.6      \u001b[32m✔\u001b[39m \u001b[34mpurrr  \u001b[39m 0.3.4 \n",
            "\u001b[32m✔\u001b[39m \u001b[34mtibble \u001b[39m 3.1.7      \u001b[32m✔\u001b[39m \u001b[34mdplyr  \u001b[39m 1.0.10\n",
            "\u001b[32m✔\u001b[39m \u001b[34mtidyr  \u001b[39m 1.2.1      \u001b[32m✔\u001b[39m \u001b[34mstringr\u001b[39m 1.4.1 \n",
            "\u001b[32m✔\u001b[39m \u001b[34mreadr  \u001b[39m 2.1.2      \u001b[32m✔\u001b[39m \u001b[34mforcats\u001b[39m 0.5.2 \n",
            "── \u001b[1mConflicts\u001b[22m ────────────────────────────────────────── tidyverse_conflicts() ──\n",
            "\u001b[31m✖\u001b[39m \u001b[34mdplyr\u001b[39m::\u001b[32mfilter()\u001b[39m masks \u001b[34mstats\u001b[39m::filter()\n",
            "\u001b[31m✖\u001b[39m \u001b[34mdplyr\u001b[39m::\u001b[32mlag()\u001b[39m    masks \u001b[34mstats\u001b[39m::lag()\n"
          ]
        }
      ]
    },
    {
      "cell_type": "code",
      "source": [
        "glimpse(flights)\n",
        "glimpse(airlines)\n",
        "glimpse(airports)\n",
        "glimpse(weather)"
      ],
      "metadata": {
        "colab": {
          "base_uri": "https://localhost:8080/"
        },
        "id": "bWLFV3jdN5qd",
        "outputId": "143d27eb-8215-4e86-96a2-a851e454bf45"
      },
      "execution_count": null,
      "outputs": [
        {
          "output_type": "stream",
          "name": "stdout",
          "text": [
            "Rows: 336,776\n",
            "Columns: 19\n",
            "$ year           \u001b[3m\u001b[90m<int>\u001b[39m\u001b[23m 2013, 2013, 2013, 2013, 2013, 2013, 2013, 2013, 2013, 2…\n",
            "$ month          \u001b[3m\u001b[90m<int>\u001b[39m\u001b[23m 1, 1, 1, 1, 1, 1, 1, 1, 1, 1, 1, 1, 1, 1, 1, 1, 1, 1, 1…\n",
            "$ day            \u001b[3m\u001b[90m<int>\u001b[39m\u001b[23m 1, 1, 1, 1, 1, 1, 1, 1, 1, 1, 1, 1, 1, 1, 1, 1, 1, 1, 1…\n",
            "$ dep_time       \u001b[3m\u001b[90m<int>\u001b[39m\u001b[23m 517, 533, 542, 544, 554, 554, 555, 557, 557, 558, 558, …\n",
            "$ sched_dep_time \u001b[3m\u001b[90m<int>\u001b[39m\u001b[23m 515, 529, 540, 545, 600, 558, 600, 600, 600, 600, 600, …\n",
            "$ dep_delay      \u001b[3m\u001b[90m<dbl>\u001b[39m\u001b[23m 2, 4, 2, -1, -6, -4, -5, -3, -3, -2, -2, -2, -2, -2, -1…\n",
            "$ arr_time       \u001b[3m\u001b[90m<int>\u001b[39m\u001b[23m 830, 850, 923, 1004, 812, 740, 913, 709, 838, 753, 849,…\n",
            "$ sched_arr_time \u001b[3m\u001b[90m<int>\u001b[39m\u001b[23m 819, 830, 850, 1022, 837, 728, 854, 723, 846, 745, 851,…\n",
            "$ arr_delay      \u001b[3m\u001b[90m<dbl>\u001b[39m\u001b[23m 11, 20, 33, -18, -25, 12, 19, -14, -8, 8, -2, -3, 7, -1…\n",
            "$ carrier        \u001b[3m\u001b[90m<chr>\u001b[39m\u001b[23m \"UA\", \"UA\", \"AA\", \"B6\", \"DL\", \"UA\", \"B6\", \"EV\", \"B6\", \"…\n",
            "$ flight         \u001b[3m\u001b[90m<int>\u001b[39m\u001b[23m 1545, 1714, 1141, 725, 461, 1696, 507, 5708, 79, 301, 4…\n",
            "$ tailnum        \u001b[3m\u001b[90m<chr>\u001b[39m\u001b[23m \"N14228\", \"N24211\", \"N619AA\", \"N804JB\", \"N668DN\", \"N394…\n",
            "$ origin         \u001b[3m\u001b[90m<chr>\u001b[39m\u001b[23m \"EWR\", \"LGA\", \"JFK\", \"JFK\", \"LGA\", \"EWR\", \"EWR\", \"LGA\",…\n",
            "$ dest           \u001b[3m\u001b[90m<chr>\u001b[39m\u001b[23m \"IAH\", \"IAH\", \"MIA\", \"BQN\", \"ATL\", \"ORD\", \"FLL\", \"IAD\",…\n",
            "$ air_time       \u001b[3m\u001b[90m<dbl>\u001b[39m\u001b[23m 227, 227, 160, 183, 116, 150, 158, 53, 140, 138, 149, 1…\n",
            "$ distance       \u001b[3m\u001b[90m<dbl>\u001b[39m\u001b[23m 1400, 1416, 1089, 1576, 762, 719, 1065, 229, 944, 733, …\n",
            "$ hour           \u001b[3m\u001b[90m<dbl>\u001b[39m\u001b[23m 5, 5, 5, 5, 6, 5, 6, 6, 6, 6, 6, 6, 6, 6, 6, 5, 6, 6, 6…\n",
            "$ minute         \u001b[3m\u001b[90m<dbl>\u001b[39m\u001b[23m 15, 29, 40, 45, 0, 58, 0, 0, 0, 0, 0, 0, 0, 0, 0, 59, 0…\n",
            "$ time_hour      \u001b[3m\u001b[90m<dttm>\u001b[39m\u001b[23m 2013-01-01 05:00:00, 2013-01-01 05:00:00, 2013-01-01 0…\n",
            "Rows: 16\n",
            "Columns: 2\n",
            "$ carrier \u001b[3m\u001b[90m<chr>\u001b[39m\u001b[23m \"9E\", \"AA\", \"AS\", \"B6\", \"DL\", \"EV\", \"F9\", \"FL\", \"HA\", \"MQ\", \"O…\n",
            "$ name    \u001b[3m\u001b[90m<chr>\u001b[39m\u001b[23m \"Endeavor Air Inc.\", \"American Airlines Inc.\", \"Alaska Airline…\n",
            "Rows: 1,458\n",
            "Columns: 8\n",
            "$ faa   \u001b[3m\u001b[90m<chr>\u001b[39m\u001b[23m \"04G\", \"06A\", \"06C\", \"06N\", \"09J\", \"0A9\", \"0G6\", \"0G7\", \"0P2\", \"…\n",
            "$ name  \u001b[3m\u001b[90m<chr>\u001b[39m\u001b[23m \"Lansdowne Airport\", \"Moton Field Municipal Airport\", \"Schaumbur…\n",
            "$ lat   \u001b[3m\u001b[90m<dbl>\u001b[39m\u001b[23m 41.13047, 32.46057, 41.98934, 41.43191, 31.07447, 36.37122, 41.4…\n",
            "$ lon   \u001b[3m\u001b[90m<dbl>\u001b[39m\u001b[23m -80.61958, -85.68003, -88.10124, -74.39156, -81.42778, -82.17342…\n",
            "$ alt   \u001b[3m\u001b[90m<dbl>\u001b[39m\u001b[23m 1044, 264, 801, 523, 11, 1593, 730, 492, 1000, 108, 409, 875, 10…\n",
            "$ tz    \u001b[3m\u001b[90m<dbl>\u001b[39m\u001b[23m -5, -6, -6, -5, -5, -5, -5, -5, -5, -8, -5, -6, -5, -5, -5, -5, …\n",
            "$ dst   \u001b[3m\u001b[90m<chr>\u001b[39m\u001b[23m \"A\", \"A\", \"A\", \"A\", \"A\", \"A\", \"A\", \"A\", \"U\", \"A\", \"A\", \"U\", \"A\",…\n",
            "$ tzone \u001b[3m\u001b[90m<chr>\u001b[39m\u001b[23m \"America/New_York\", \"America/Chicago\", \"America/Chicago\", \"Ameri…\n",
            "Rows: 26,115\n",
            "Columns: 15\n",
            "$ origin     \u001b[3m\u001b[90m<chr>\u001b[39m\u001b[23m \"EWR\", \"EWR\", \"EWR\", \"EWR\", \"EWR\", \"EWR\", \"EWR\", \"EWR\", \"EW…\n",
            "$ year       \u001b[3m\u001b[90m<int>\u001b[39m\u001b[23m 2013, 2013, 2013, 2013, 2013, 2013, 2013, 2013, 2013, 2013,…\n",
            "$ month      \u001b[3m\u001b[90m<int>\u001b[39m\u001b[23m 1, 1, 1, 1, 1, 1, 1, 1, 1, 1, 1, 1, 1, 1, 1, 1, 1, 1, 1, 1,…\n",
            "$ day        \u001b[3m\u001b[90m<int>\u001b[39m\u001b[23m 1, 1, 1, 1, 1, 1, 1, 1, 1, 1, 1, 1, 1, 1, 1, 1, 1, 1, 1, 1,…\n",
            "$ hour       \u001b[3m\u001b[90m<int>\u001b[39m\u001b[23m 1, 2, 3, 4, 5, 6, 7, 8, 9, 10, 11, 13, 14, 15, 16, 17, 18, …\n",
            "$ temp       \u001b[3m\u001b[90m<dbl>\u001b[39m\u001b[23m 39.02, 39.02, 39.02, 39.92, 39.02, 37.94, 39.02, 39.92, 39.…\n",
            "$ dewp       \u001b[3m\u001b[90m<dbl>\u001b[39m\u001b[23m 26.06, 26.96, 28.04, 28.04, 28.04, 28.04, 28.04, 28.04, 28.…\n",
            "$ humid      \u001b[3m\u001b[90m<dbl>\u001b[39m\u001b[23m 59.37, 61.63, 64.43, 62.21, 64.43, 67.21, 64.43, 62.21, 62.…\n",
            "$ wind_dir   \u001b[3m\u001b[90m<dbl>\u001b[39m\u001b[23m 270, 250, 240, 250, 260, 240, 240, 250, 260, 260, 260, 330,…\n",
            "$ wind_speed \u001b[3m\u001b[90m<dbl>\u001b[39m\u001b[23m 10.35702, 8.05546, 11.50780, 12.65858, 12.65858, 11.50780, …\n",
            "$ wind_gust  \u001b[3m\u001b[90m<dbl>\u001b[39m\u001b[23m NA, NA, NA, NA, NA, NA, NA, NA, NA, NA, NA, NA, NA, NA, 20.…\n",
            "$ precip     \u001b[3m\u001b[90m<dbl>\u001b[39m\u001b[23m 0, 0, 0, 0, 0, 0, 0, 0, 0, 0, 0, 0, 0, 0, 0, 0, 0, 0, 0, 0,…\n",
            "$ pressure   \u001b[3m\u001b[90m<dbl>\u001b[39m\u001b[23m 1012.0, 1012.3, 1012.5, 1012.2, 1011.9, 1012.4, 1012.2, 101…\n",
            "$ visib      \u001b[3m\u001b[90m<dbl>\u001b[39m\u001b[23m 10, 10, 10, 10, 10, 10, 10, 10, 10, 10, 10, 10, 10, 10, 10,…\n",
            "$ time_hour  \u001b[3m\u001b[90m<dttm>\u001b[39m\u001b[23m 2013-01-01 01:00:00, 2013-01-01 02:00:00, 2013-01-01 03:00…\n"
          ]
        }
      ]
    },
    {
      "cell_type": "markdown",
      "source": [
        "### Transform data"
      ],
      "metadata": {
        "id": "1mDJQw2NZodt"
      }
    },
    {
      "cell_type": "markdown",
      "source": [
        "manipulate NA value"
      ],
      "metadata": {
        "id": "ImukaVnMZTkc"
      }
    },
    {
      "cell_type": "code",
      "source": [
        "df <- flights"
      ],
      "metadata": {
        "id": "hfjkeNEzexJ7"
      },
      "execution_count": null,
      "outputs": []
    },
    {
      "cell_type": "code",
      "source": [
        "#check NA \n",
        "df%>%\n",
        "  apply(MARGIN = 2,function(col) sum(is.na(col))) \n",
        "  "
      ],
      "metadata": {
        "id": "efklTMUIZeuw",
        "colab": {
          "base_uri": "https://localhost:8080/",
          "height": 52
        },
        "outputId": "980c5ff5-76bc-4724-db08-0ea12f993f12"
      },
      "execution_count": null,
      "outputs": [
        {
          "output_type": "display_data",
          "data": {
            "text/html": [
              "<style>\n",
              ".dl-inline {width: auto; margin:0; padding: 0}\n",
              ".dl-inline>dt, .dl-inline>dd {float: none; width: auto; display: inline-block}\n",
              ".dl-inline>dt::after {content: \":\\0020\"; padding-right: .5ex}\n",
              ".dl-inline>dt:not(:first-of-type) {padding-left: .5ex}\n",
              "</style><dl class=dl-inline><dt>year</dt><dd>0</dd><dt>month</dt><dd>0</dd><dt>day</dt><dd>0</dd><dt>dep_time</dt><dd>8255</dd><dt>sched_dep_time</dt><dd>0</dd><dt>dep_delay</dt><dd>8255</dd><dt>arr_time</dt><dd>8713</dd><dt>sched_arr_time</dt><dd>0</dd><dt>arr_delay</dt><dd>9430</dd><dt>carrier</dt><dd>0</dd><dt>flight</dt><dd>0</dd><dt>tailnum</dt><dd>2512</dd><dt>origin</dt><dd>0</dd><dt>dest</dt><dd>0</dd><dt>air_time</dt><dd>0</dd><dt>distance</dt><dd>0</dd><dt>hour</dt><dd>0</dd><dt>minute</dt><dd>0</dd><dt>time_hour</dt><dd>0</dd></dl>\n"
            ],
            "text/markdown": "year\n:   0month\n:   0day\n:   0dep_time\n:   8255sched_dep_time\n:   0dep_delay\n:   8255arr_time\n:   8713sched_arr_time\n:   0arr_delay\n:   9430carrier\n:   0flight\n:   0tailnum\n:   2512origin\n:   0dest\n:   0air_time\n:   0distance\n:   0hour\n:   0minute\n:   0time_hour\n:   0\n\n",
            "text/latex": "\\begin{description*}\n\\item[year] 0\n\\item[month] 0\n\\item[day] 0\n\\item[dep\\textbackslash{}\\_time] 8255\n\\item[sched\\textbackslash{}\\_dep\\textbackslash{}\\_time] 0\n\\item[dep\\textbackslash{}\\_delay] 8255\n\\item[arr\\textbackslash{}\\_time] 8713\n\\item[sched\\textbackslash{}\\_arr\\textbackslash{}\\_time] 0\n\\item[arr\\textbackslash{}\\_delay] 9430\n\\item[carrier] 0\n\\item[flight] 0\n\\item[tailnum] 2512\n\\item[origin] 0\n\\item[dest] 0\n\\item[air\\textbackslash{}\\_time] 0\n\\item[distance] 0\n\\item[hour] 0\n\\item[minute] 0\n\\item[time\\textbackslash{}\\_hour] 0\n\\end{description*}\n",
            "text/plain": [
              "          year          month            day       dep_time sched_dep_time \n",
              "             0              0              0           8255              0 \n",
              "     dep_delay       arr_time sched_arr_time      arr_delay        carrier \n",
              "          8255           8713              0           9430              0 \n",
              "        flight        tailnum         origin           dest       air_time \n",
              "             0           2512              0              0              0 \n",
              "      distance           hour         minute      time_hour \n",
              "             0              0              0              0 "
            ]
          },
          "metadata": {}
        }
      ]
    },
    {
      "cell_type": "code",
      "source": [
        "#imputation function\n",
        "avg_repl_na = function(col){\n",
        "  replace_na(col,mean(col, na.rm = T))\n",
        "}\n",
        "\n",
        "#replace na in air_time column\n",
        "df$air_time <- df$air_time %>% avg_repl_na\n",
        "df$dep_delay <- df$dep_delay %>% avg_repl_na"
      ],
      "metadata": {
        "id": "PGvDqcfZcKIk"
      },
      "execution_count": null,
      "outputs": []
    },
    {
      "cell_type": "markdown",
      "source": [
        "### Q1:  Which carriers are in the top3 the most airtime since Feb to Aug ?"
      ],
      "metadata": {
        "id": "ElQM2hrGOt2U"
      }
    },
    {
      "cell_type": "code",
      "source": [
        "df_mini<-df %>%\n",
        "  select(carrier,air_time,month)%>%\n",
        "  filter(month>=2,month<=8)\n",
        "\n",
        "df_mini %>% \n",
        "  group_by(carrier)%>%\n",
        "  summarise(total_airtime = sum(air_time))%>%\n",
        "  arrange(desc(total_airtime))%>%\n",
        "  head(3)\n",
        "  "
      ],
      "metadata": {
        "colab": {
          "base_uri": "https://localhost:8080/",
          "height": 192
        },
        "id": "P0iyp4hWOVDj",
        "outputId": "679b5c9d-205f-42f8-d7ab-c283bdc5701d"
      },
      "execution_count": null,
      "outputs": [
        {
          "output_type": "display_data",
          "data": {
            "text/html": [
              "<table class=\"dataframe\">\n",
              "<caption>A tibble: 3 × 2</caption>\n",
              "<thead>\n",
              "\t<tr><th scope=col>carrier</th><th scope=col>total_airtime</th></tr>\n",
              "\t<tr><th scope=col>&lt;chr&gt;</th><th scope=col>&lt;dbl&gt;</th></tr>\n",
              "</thead>\n",
              "<tbody>\n",
              "\t<tr><td>UA</td><td>7191137</td></tr>\n",
              "\t<tr><td>DL</td><td>4910488</td></tr>\n",
              "\t<tr><td>B6</td><td>4862142</td></tr>\n",
              "</tbody>\n",
              "</table>\n"
            ],
            "text/markdown": "\nA tibble: 3 × 2\n\n| carrier &lt;chr&gt; | total_airtime &lt;dbl&gt; |\n|---|---|\n| UA | 7191137 |\n| DL | 4910488 |\n| B6 | 4862142 |\n\n",
            "text/latex": "A tibble: 3 × 2\n\\begin{tabular}{ll}\n carrier & total\\_airtime\\\\\n <chr> & <dbl>\\\\\n\\hline\n\t UA & 7191137\\\\\n\t DL & 4910488\\\\\n\t B6 & 4862142\\\\\n\\end{tabular}\n",
            "text/plain": [
              "  carrier total_airtime\n",
              "1 UA      7191137      \n",
              "2 DL      4910488      \n",
              "3 B6      4862142      "
            ]
          },
          "metadata": {}
        }
      ]
    },
    {
      "cell_type": "markdown",
      "source": [
        "### Q2: Please detail the flights depart to chongqing"
      ],
      "metadata": {
        "id": "QdL74vGrnzHF"
      }
    },
    {
      "cell_type": "code",
      "source": [
        "airports%>%\n",
        "  filter(tzone == \"Asia/Chongqing\") %>%\n",
        "  left_join(flights,by = c(\"faa\" = \"origin\"))"
      ],
      "metadata": {
        "colab": {
          "base_uri": "https://localhost:8080/",
          "height": 213
        },
        "id": "gdRBObH-nynz",
        "outputId": "8ab6c28a-fb5b-43ad-c9a5-bb141fe17024"
      },
      "execution_count": null,
      "outputs": [
        {
          "output_type": "display_data",
          "data": {
            "text/html": [
              "<table class=\"dataframe\">\n",
              "<caption>A tibble: 2 × 26</caption>\n",
              "<thead>\n",
              "\t<tr><th scope=col>faa</th><th scope=col>name</th><th scope=col>lat</th><th scope=col>lon</th><th scope=col>alt</th><th scope=col>tz</th><th scope=col>dst</th><th scope=col>tzone</th><th scope=col>year</th><th scope=col>month</th><th scope=col>⋯</th><th scope=col>arr_delay</th><th scope=col>carrier</th><th scope=col>flight</th><th scope=col>tailnum</th><th scope=col>dest</th><th scope=col>air_time</th><th scope=col>distance</th><th scope=col>hour</th><th scope=col>minute</th><th scope=col>time_hour</th></tr>\n",
              "\t<tr><th scope=col>&lt;chr&gt;</th><th scope=col>&lt;chr&gt;</th><th scope=col>&lt;dbl&gt;</th><th scope=col>&lt;dbl&gt;</th><th scope=col>&lt;dbl&gt;</th><th scope=col>&lt;dbl&gt;</th><th scope=col>&lt;chr&gt;</th><th scope=col>&lt;chr&gt;</th><th scope=col>&lt;int&gt;</th><th scope=col>&lt;int&gt;</th><th scope=col>⋯</th><th scope=col>&lt;dbl&gt;</th><th scope=col>&lt;chr&gt;</th><th scope=col>&lt;int&gt;</th><th scope=col>&lt;chr&gt;</th><th scope=col>&lt;chr&gt;</th><th scope=col>&lt;dbl&gt;</th><th scope=col>&lt;dbl&gt;</th><th scope=col>&lt;dbl&gt;</th><th scope=col>&lt;dbl&gt;</th><th scope=col>&lt;dttm&gt;</th></tr>\n",
              "</thead>\n",
              "<tbody>\n",
              "\t<tr><td>DVT</td><td>Deer Valley Municipal Airport</td><td>33.4117</td><td>112.457</td><td>1478</td><td>8</td><td>A</td><td>Asia/Chongqing</td><td>NA</td><td>NA</td><td>⋯</td><td>NA</td><td>NA</td><td>NA</td><td>NA</td><td>NA</td><td>NA</td><td>NA</td><td>NA</td><td>NA</td><td>NA</td></tr>\n",
              "\t<tr><td>MYF</td><td>Montgomery Field             </td><td>32.4759</td><td>117.759</td><td>  17</td><td>8</td><td>A</td><td>Asia/Chongqing</td><td>NA</td><td>NA</td><td>⋯</td><td>NA</td><td>NA</td><td>NA</td><td>NA</td><td>NA</td><td>NA</td><td>NA</td><td>NA</td><td>NA</td><td>NA</td></tr>\n",
              "</tbody>\n",
              "</table>\n"
            ],
            "text/markdown": "\nA tibble: 2 × 26\n\n| faa &lt;chr&gt; | name &lt;chr&gt; | lat &lt;dbl&gt; | lon &lt;dbl&gt; | alt &lt;dbl&gt; | tz &lt;dbl&gt; | dst &lt;chr&gt; | tzone &lt;chr&gt; | year &lt;int&gt; | month &lt;int&gt; | ⋯ ⋯ | arr_delay &lt;dbl&gt; | carrier &lt;chr&gt; | flight &lt;int&gt; | tailnum &lt;chr&gt; | dest &lt;chr&gt; | air_time &lt;dbl&gt; | distance &lt;dbl&gt; | hour &lt;dbl&gt; | minute &lt;dbl&gt; | time_hour &lt;dttm&gt; |\n|---|---|---|---|---|---|---|---|---|---|---|---|---|---|---|---|---|---|---|---|---|\n| DVT | Deer Valley Municipal Airport | 33.4117 | 112.457 | 1478 | 8 | A | Asia/Chongqing | NA | NA | ⋯ | NA | NA | NA | NA | NA | NA | NA | NA | NA | NA |\n| MYF | Montgomery Field              | 32.4759 | 117.759 |   17 | 8 | A | Asia/Chongqing | NA | NA | ⋯ | NA | NA | NA | NA | NA | NA | NA | NA | NA | NA |\n\n",
            "text/latex": "A tibble: 2 × 26\n\\begin{tabular}{lllllllllllllllllllll}\n faa & name & lat & lon & alt & tz & dst & tzone & year & month & ⋯ & arr\\_delay & carrier & flight & tailnum & dest & air\\_time & distance & hour & minute & time\\_hour\\\\\n <chr> & <chr> & <dbl> & <dbl> & <dbl> & <dbl> & <chr> & <chr> & <int> & <int> & ⋯ & <dbl> & <chr> & <int> & <chr> & <chr> & <dbl> & <dbl> & <dbl> & <dbl> & <dttm>\\\\\n\\hline\n\t DVT & Deer Valley Municipal Airport & 33.4117 & 112.457 & 1478 & 8 & A & Asia/Chongqing & NA & NA & ⋯ & NA & NA & NA & NA & NA & NA & NA & NA & NA & NA\\\\\n\t MYF & Montgomery Field              & 32.4759 & 117.759 &   17 & 8 & A & Asia/Chongqing & NA & NA & ⋯ & NA & NA & NA & NA & NA & NA & NA & NA & NA & NA\\\\\n\\end{tabular}\n",
            "text/plain": [
              "  faa name                          lat     lon     alt  tz dst tzone         \n",
              "1 DVT Deer Valley Municipal Airport 33.4117 112.457 1478 8  A   Asia/Chongqing\n",
              "2 MYF Montgomery Field              32.4759 117.759   17 8  A   Asia/Chongqing\n",
              "  year month ⋯ arr_delay carrier flight tailnum dest air_time distance hour\n",
              "1 NA   NA    ⋯ NA        NA      NA     NA      NA   NA       NA       NA  \n",
              "2 NA   NA    ⋯ NA        NA      NA     NA      NA   NA       NA       NA  \n",
              "  minute time_hour\n",
              "1 NA     <NA>     \n",
              "2 NA     <NA>     "
            ]
          },
          "metadata": {}
        }
      ]
    },
    {
      "cell_type": "markdown",
      "source": [
        "### Q3: How long from JFK depart to ORD? (Answer with mean)"
      ],
      "metadata": {
        "id": "JEZzdRnOvRpX"
      }
    },
    {
      "cell_type": "code",
      "source": [
        "df%>%\n",
        "  filter(origin == \"JFK\" & dest == \"ORD\")%>%\n",
        "  summarize(durationJFK_to_ORD = mean(hour))"
      ],
      "metadata": {
        "colab": {
          "base_uri": "https://localhost:8080/",
          "height": 129
        },
        "id": "EzeT5RYfvc2C",
        "outputId": "c756431d-56e2-4903-c642-49a453125c66"
      },
      "execution_count": null,
      "outputs": [
        {
          "output_type": "display_data",
          "data": {
            "text/html": [
              "<table class=\"dataframe\">\n",
              "<caption>A tibble: 1 × 1</caption>\n",
              "<thead>\n",
              "\t<tr><th scope=col>durationJFK_to_ORD</th></tr>\n",
              "\t<tr><th scope=col>&lt;dbl&gt;</th></tr>\n",
              "</thead>\n",
              "<tbody>\n",
              "\t<tr><td>13.96045</td></tr>\n",
              "</tbody>\n",
              "</table>\n"
            ],
            "text/markdown": "\nA tibble: 1 × 1\n\n| durationJFK_to_ORD &lt;dbl&gt; |\n|---|\n| 13.96045 |\n\n",
            "text/latex": "A tibble: 1 × 1\n\\begin{tabular}{l}\n durationJFK\\_to\\_ORD\\\\\n <dbl>\\\\\n\\hline\n\t 13.96045\\\\\n\\end{tabular}\n",
            "text/plain": [
              "  durationJFK_to_ORD\n",
              "1 13.96045          "
            ]
          },
          "metadata": {}
        }
      ]
    },
    {
      "cell_type": "markdown",
      "source": [
        "### Q4: Please summarize departure_delay in each timezone"
      ],
      "metadata": {
        "id": "P7mg2xP8y6-2"
      }
    },
    {
      "cell_type": "code",
      "source": [
        "df%>%\n",
        "  inner_join(airports,by = c(\"origin\" = \"faa\"))%>%\n",
        "  group_by(tzone)%>%\n",
        "  summarize(most_late = max(dep_delay,na.rm = T),\n",
        "            avg = round(mean(dep_delay,na.rm = T),1),\n",
        "            most_early = min(dep_delay,na.rm = T))\n",
        "  \n",
        "  cat(\"other timezones are no data\")\n",
        "  "
      ],
      "metadata": {
        "colab": {
          "base_uri": "https://localhost:8080/",
          "height": 147
        },
        "id": "dP_vRXXZy_o3",
        "outputId": "59b1b9f0-b775-471f-994e-0939fe8f377d"
      },
      "execution_count": null,
      "outputs": [
        {
          "output_type": "display_data",
          "data": {
            "text/html": [
              "<table class=\"dataframe\">\n",
              "<caption>A tibble: 1 × 4</caption>\n",
              "<thead>\n",
              "\t<tr><th scope=col>tzone</th><th scope=col>most_late</th><th scope=col>avg</th><th scope=col>most_early</th></tr>\n",
              "\t<tr><th scope=col>&lt;chr&gt;</th><th scope=col>&lt;dbl&gt;</th><th scope=col>&lt;dbl&gt;</th><th scope=col>&lt;dbl&gt;</th></tr>\n",
              "</thead>\n",
              "<tbody>\n",
              "\t<tr><td>America/New_York</td><td>1301</td><td>12.6</td><td>-43</td></tr>\n",
              "</tbody>\n",
              "</table>\n"
            ],
            "text/markdown": "\nA tibble: 1 × 4\n\n| tzone &lt;chr&gt; | most_late &lt;dbl&gt; | avg &lt;dbl&gt; | most_early &lt;dbl&gt; |\n|---|---|---|---|\n| America/New_York | 1301 | 12.6 | -43 |\n\n",
            "text/latex": "A tibble: 1 × 4\n\\begin{tabular}{llll}\n tzone & most\\_late & avg & most\\_early\\\\\n <chr> & <dbl> & <dbl> & <dbl>\\\\\n\\hline\n\t America/New\\_York & 1301 & 12.6 & -43\\\\\n\\end{tabular}\n",
            "text/plain": [
              "  tzone            most_late avg  most_early\n",
              "1 America/New_York 1301      12.6 -43       "
            ]
          },
          "metadata": {}
        },
        {
          "output_type": "stream",
          "name": "stdout",
          "text": [
            "other timezones are no data"
          ]
        }
      ]
    },
    {
      "cell_type": "markdown",
      "source": [
        "### Q5: Which carriers have the Most , the Least flights , Longest ,Shortest flights"
      ],
      "metadata": {
        "id": "3cz1UVMbzt8Q"
      }
    },
    {
      "cell_type": "code",
      "source": [
        "flight_in_each_carrier <- df %>%\n",
        "  group_by(carrier)%>%\n",
        "  count(carrier)%>%\n",
        "  arrange(n)%>%\n",
        "  left_join(airlines,by = \"carrier\")\n",
        "flight_in_each_carrier"
      ],
      "metadata": {
        "colab": {
          "base_uri": "https://localhost:8080/",
          "height": 600
        },
        "id": "Mxhz1u_f0dZ6",
        "outputId": "cd4d0722-f9ff-4754-d674-84ea0e05f155"
      },
      "execution_count": null,
      "outputs": [
        {
          "output_type": "display_data",
          "data": {
            "text/html": [
              "<table class=\"dataframe\">\n",
              "<caption>A grouped_df: 16 × 3</caption>\n",
              "<thead>\n",
              "\t<tr><th scope=col>carrier</th><th scope=col>n</th><th scope=col>name</th></tr>\n",
              "\t<tr><th scope=col>&lt;chr&gt;</th><th scope=col>&lt;int&gt;</th><th scope=col>&lt;chr&gt;</th></tr>\n",
              "</thead>\n",
              "<tbody>\n",
              "\t<tr><td>OO</td><td>   32</td><td>SkyWest Airlines Inc.      </td></tr>\n",
              "\t<tr><td>HA</td><td>  342</td><td>Hawaiian Airlines Inc.     </td></tr>\n",
              "\t<tr><td>YV</td><td>  601</td><td>Mesa Airlines Inc.         </td></tr>\n",
              "\t<tr><td>F9</td><td>  685</td><td>Frontier Airlines Inc.     </td></tr>\n",
              "\t<tr><td>AS</td><td>  714</td><td>Alaska Airlines Inc.       </td></tr>\n",
              "\t<tr><td>FL</td><td> 3260</td><td>AirTran Airways Corporation</td></tr>\n",
              "\t<tr><td>VX</td><td> 5162</td><td>Virgin America             </td></tr>\n",
              "\t<tr><td>WN</td><td>12275</td><td>Southwest Airlines Co.     </td></tr>\n",
              "\t<tr><td>9E</td><td>18460</td><td>Endeavor Air Inc.          </td></tr>\n",
              "\t<tr><td>US</td><td>20536</td><td>US Airways Inc.            </td></tr>\n",
              "\t<tr><td>MQ</td><td>26397</td><td>Envoy Air                  </td></tr>\n",
              "\t<tr><td>AA</td><td>32729</td><td>American Airlines Inc.     </td></tr>\n",
              "\t<tr><td>DL</td><td>48110</td><td>Delta Air Lines Inc.       </td></tr>\n",
              "\t<tr><td>EV</td><td>54173</td><td>ExpressJet Airlines Inc.   </td></tr>\n",
              "\t<tr><td>B6</td><td>54635</td><td>JetBlue Airways            </td></tr>\n",
              "\t<tr><td>UA</td><td>58665</td><td>United Air Lines Inc.      </td></tr>\n",
              "</tbody>\n",
              "</table>\n"
            ],
            "text/markdown": "\nA grouped_df: 16 × 3\n\n| carrier &lt;chr&gt; | n &lt;int&gt; | name &lt;chr&gt; |\n|---|---|---|\n| OO |    32 | SkyWest Airlines Inc.       |\n| HA |   342 | Hawaiian Airlines Inc.      |\n| YV |   601 | Mesa Airlines Inc.          |\n| F9 |   685 | Frontier Airlines Inc.      |\n| AS |   714 | Alaska Airlines Inc.        |\n| FL |  3260 | AirTran Airways Corporation |\n| VX |  5162 | Virgin America              |\n| WN | 12275 | Southwest Airlines Co.      |\n| 9E | 18460 | Endeavor Air Inc.           |\n| US | 20536 | US Airways Inc.             |\n| MQ | 26397 | Envoy Air                   |\n| AA | 32729 | American Airlines Inc.      |\n| DL | 48110 | Delta Air Lines Inc.        |\n| EV | 54173 | ExpressJet Airlines Inc.    |\n| B6 | 54635 | JetBlue Airways             |\n| UA | 58665 | United Air Lines Inc.       |\n\n",
            "text/latex": "A grouped\\_df: 16 × 3\n\\begin{tabular}{lll}\n carrier & n & name\\\\\n <chr> & <int> & <chr>\\\\\n\\hline\n\t OO &    32 & SkyWest Airlines Inc.      \\\\\n\t HA &   342 & Hawaiian Airlines Inc.     \\\\\n\t YV &   601 & Mesa Airlines Inc.         \\\\\n\t F9 &   685 & Frontier Airlines Inc.     \\\\\n\t AS &   714 & Alaska Airlines Inc.       \\\\\n\t FL &  3260 & AirTran Airways Corporation\\\\\n\t VX &  5162 & Virgin America             \\\\\n\t WN & 12275 & Southwest Airlines Co.     \\\\\n\t 9E & 18460 & Endeavor Air Inc.          \\\\\n\t US & 20536 & US Airways Inc.            \\\\\n\t MQ & 26397 & Envoy Air                  \\\\\n\t AA & 32729 & American Airlines Inc.     \\\\\n\t DL & 48110 & Delta Air Lines Inc.       \\\\\n\t EV & 54173 & ExpressJet Airlines Inc.   \\\\\n\t B6 & 54635 & JetBlue Airways            \\\\\n\t UA & 58665 & United Air Lines Inc.      \\\\\n\\end{tabular}\n",
            "text/plain": [
              "   carrier n     name                       \n",
              "1  OO         32 SkyWest Airlines Inc.      \n",
              "2  HA        342 Hawaiian Airlines Inc.     \n",
              "3  YV        601 Mesa Airlines Inc.         \n",
              "4  F9        685 Frontier Airlines Inc.     \n",
              "5  AS        714 Alaska Airlines Inc.       \n",
              "6  FL       3260 AirTran Airways Corporation\n",
              "7  VX       5162 Virgin America             \n",
              "8  WN      12275 Southwest Airlines Co.     \n",
              "9  9E      18460 Endeavor Air Inc.          \n",
              "10 US      20536 US Airways Inc.            \n",
              "11 MQ      26397 Envoy Air                  \n",
              "12 AA      32729 American Airlines Inc.     \n",
              "13 DL      48110 Delta Air Lines Inc.       \n",
              "14 EV      54173 ExpressJet Airlines Inc.   \n",
              "15 B6      54635 JetBlue Airways            \n",
              "16 UA      58665 United Air Lines Inc.      "
            ]
          },
          "metadata": {}
        }
      ]
    },
    {
      "cell_type": "code",
      "source": [
        "longest_flight_carrier <- df%>%\n",
        "  filter(hour == max(hour))%>%\n",
        "  distinct(carrier)%>%\n",
        "  left_join(airlines,by = \"carrier\")\n",
        "longest_flight_carrier"
      ],
      "metadata": {
        "colab": {
          "base_uri": "https://localhost:8080/",
          "height": 192
        },
        "id": "qtdlqnAF3WVi",
        "outputId": "b07c8f92-b5aa-48b2-d51d-61fa4c48c666"
      },
      "execution_count": null,
      "outputs": [
        {
          "output_type": "display_data",
          "data": {
            "text/html": [
              "<table class=\"dataframe\">\n",
              "<caption>A tibble: 3 × 2</caption>\n",
              "<thead>\n",
              "\t<tr><th scope=col>carrier</th><th scope=col>name</th></tr>\n",
              "\t<tr><th scope=col>&lt;chr&gt;</th><th scope=col>&lt;chr&gt;</th></tr>\n",
              "</thead>\n",
              "<tbody>\n",
              "\t<tr><td>B6</td><td>JetBlue Airways      </td></tr>\n",
              "\t<tr><td>UA</td><td>United Air Lines Inc.</td></tr>\n",
              "\t<tr><td>DL</td><td>Delta Air Lines Inc. </td></tr>\n",
              "</tbody>\n",
              "</table>\n"
            ],
            "text/markdown": "\nA tibble: 3 × 2\n\n| carrier &lt;chr&gt; | name &lt;chr&gt; |\n|---|---|\n| B6 | JetBlue Airways       |\n| UA | United Air Lines Inc. |\n| DL | Delta Air Lines Inc.  |\n\n",
            "text/latex": "A tibble: 3 × 2\n\\begin{tabular}{ll}\n carrier & name\\\\\n <chr> & <chr>\\\\\n\\hline\n\t B6 & JetBlue Airways      \\\\\n\t UA & United Air Lines Inc.\\\\\n\t DL & Delta Air Lines Inc. \\\\\n\\end{tabular}\n",
            "text/plain": [
              "  carrier name                 \n",
              "1 B6      JetBlue Airways      \n",
              "2 UA      United Air Lines Inc.\n",
              "3 DL      Delta Air Lines Inc. "
            ]
          },
          "metadata": {}
        }
      ]
    },
    {
      "cell_type": "code",
      "source": [
        "shortest_flight_carrier <- df%>%\n",
        "  filter(hour == min(hour))%>%\n",
        "  distinct(carrier)%>%\n",
        "  left_join(airlines,by = \"carrier\")\n",
        "shortest_flight_carrier"
      ],
      "metadata": {
        "colab": {
          "base_uri": "https://localhost:8080/",
          "height": 129
        },
        "id": "5rRs7glL51p5",
        "outputId": "24949226-e001-417b-d73c-b21cd9442730"
      },
      "execution_count": null,
      "outputs": [
        {
          "output_type": "display_data",
          "data": {
            "text/html": [
              "<table class=\"dataframe\">\n",
              "<caption>A tibble: 1 × 2</caption>\n",
              "<thead>\n",
              "\t<tr><th scope=col>carrier</th><th scope=col>name</th></tr>\n",
              "\t<tr><th scope=col>&lt;chr&gt;</th><th scope=col>&lt;chr&gt;</th></tr>\n",
              "</thead>\n",
              "<tbody>\n",
              "\t<tr><td>US</td><td>US Airways Inc.</td></tr>\n",
              "</tbody>\n",
              "</table>\n"
            ],
            "text/markdown": "\nA tibble: 1 × 2\n\n| carrier &lt;chr&gt; | name &lt;chr&gt; |\n|---|---|\n| US | US Airways Inc. |\n\n",
            "text/latex": "A tibble: 1 × 2\n\\begin{tabular}{ll}\n carrier & name\\\\\n <chr> & <chr>\\\\\n\\hline\n\t US & US Airways Inc.\\\\\n\\end{tabular}\n",
            "text/plain": [
              "  carrier name           \n",
              "1 US      US Airways Inc."
            ]
          },
          "metadata": {}
        }
      ]
    },
    {
      "cell_type": "code",
      "source": [
        "install.packages(\"glue\")\n",
        "library(glue)"
      ],
      "metadata": {
        "id": "tmuZ9xX_81Hn"
      },
      "execution_count": null,
      "outputs": []
    },
    {
      "cell_type": "code",
      "source": [
        "glue(\" Carrier which has The most flight is {flight_in_each_carrier[16,3]} ,The one has least flights is {flight_in_each_carrier[1,3]}\")\n",
        "glue(\" Carrier has longest flights is {longest_flight_carrier[,2]} and the one has shortest flight is {shortest_flight_carrier[,2]}\")"
      ],
      "metadata": {
        "colab": {
          "base_uri": "https://localhost:8080/",
          "height": 52
        },
        "id": "kw6E_FxS9mVG",
        "outputId": "9fd39a14-4c7a-47e5-db51-6132edc68d16"
      },
      "execution_count": null,
      "outputs": [
        {
          "output_type": "display_data",
          "data": {
            "text/html": [
              "' Carrier which has The most flight is United Air Lines Inc. ,The one has least flights is SkyWest Airlines Inc.'"
            ],
            "text/markdown": "' Carrier which has The most flight is United Air Lines Inc. ,The one has least flights is SkyWest Airlines Inc.'",
            "text/latex": "' Carrier which has The most flight is United Air Lines Inc. ,The one has least flights is SkyWest Airlines Inc.'",
            "text/plain": [
              " Carrier which has The most flight is United Air Lines Inc. ,The one has least flights is SkyWest Airlines Inc."
            ]
          },
          "metadata": {}
        },
        {
          "output_type": "display_data",
          "data": {
            "text/html": [
              "' Carrier has longest flights is c(\"JetBlue Airways\", \"United Air Lines Inc.\", \"Delta Air Lines Inc.\") and the one has shortest flight is US Airways Inc.'"
            ],
            "text/markdown": "' Carrier has longest flights is c(\"JetBlue Airways\", \"United Air Lines Inc.\", \"Delta Air Lines Inc.\") and the one has shortest flight is US Airways Inc.'",
            "text/latex": "' Carrier has longest flights is c(\"JetBlue Airways\", \"United Air Lines Inc.\", \"Delta Air Lines Inc.\") and the one has shortest flight is US Airways Inc.'",
            "text/plain": [
              " Carrier has longest flights is c(\"JetBlue Airways\", \"United Air Lines Inc.\", \"Delta Air Lines Inc.\") and the one has shortest flight is US Airways Inc."
            ]
          },
          "metadata": {}
        }
      ]
    },
    {
      "cell_type": "markdown",
      "source": [
        "## RpostgreSQL"
      ],
      "metadata": {
        "id": "DGJnJUinDjDj"
      }
    },
    {
      "cell_type": "code",
      "source": [
        "install.packages(\"RPostgreSQL\")\n",
        "library(RPostgreSQL)"
      ],
      "metadata": {
        "colab": {
          "base_uri": "https://localhost:8080/"
        },
        "id": "WMhIU7THDn9E",
        "outputId": "7594f1f9-0de0-48c8-aa9f-59f29b3e027e"
      },
      "execution_count": null,
      "outputs": [
        {
          "output_type": "stream",
          "name": "stderr",
          "text": [
            "Installing package into ‘/usr/local/lib/R/site-library’\n",
            "(as ‘lib’ is unspecified)\n",
            "\n",
            "Loading required package: DBI\n",
            "\n"
          ]
        }
      ]
    },
    {
      "cell_type": "code",
      "source": [
        "con = dbConnect(\n",
        "  PostgreSQL(),# driver \n",
        "  host = \"tiny.db.elephantsql.com\", #com that run our server\n",
        "  dbname = \"jjcebrax\",\n",
        "  port = 5432, #gate that user access through\n",
        "  user = \"jjcebrax\",\n",
        "  password = \"ZkdHpR3d9s9QA3rk7wTeEb07N06tWt6o\"\n",
        ")"
      ],
      "metadata": {
        "id": "fWBj3eFrECI0"
      },
      "execution_count": null,
      "outputs": []
    },
    {
      "cell_type": "code",
      "source": [
        "dbListTables(con)\n",
        "students<-data.frame(\n",
        "id =  1:4,\n",
        "name = c(\"Ben\",\"Bas\",\"Base\",\"Boss\"),\n",
        "grade = c(\"A\",\"B\",\"C\",\"D\")\n",
        ")\n",
        "#remove : dbRemoveTable(con,\"students_server\")\n",
        "dbWriteTable(con,\"students_server\",students,row.names=F)"
      ],
      "metadata": {
        "colab": {
          "base_uri": "https://localhost:8080/",
          "height": 34
        },
        "id": "ZLkx0G8RFaPN",
        "outputId": "4b2c19d9-4c1a-4b2f-ded9-f612ee516aee"
      },
      "execution_count": null,
      "outputs": [
        {
          "output_type": "display_data",
          "data": {
            "text/html": [],
            "text/markdown": "",
            "text/latex": "",
            "text/plain": [
              "character(0)"
            ]
          },
          "metadata": {}
        },
        {
          "output_type": "display_data",
          "data": {
            "text/html": [
              "TRUE"
            ],
            "text/markdown": "TRUE",
            "text/latex": "TRUE",
            "text/plain": [
              "[1] TRUE"
            ]
          },
          "metadata": {}
        }
      ]
    },
    {
      "cell_type": "code",
      "source": [
        "dbListTables(con)"
      ],
      "metadata": {
        "colab": {
          "base_uri": "https://localhost:8080/",
          "height": 34
        },
        "id": "ZJZgHVDrGqgD",
        "outputId": "b62118eb-2bb0-402b-d8d8-7f4dd6537529"
      },
      "execution_count": null,
      "outputs": [
        {
          "output_type": "display_data",
          "data": {
            "text/html": [
              "'students_server'"
            ],
            "text/markdown": "'students_server'",
            "text/latex": "'students\\_server'",
            "text/plain": [
              "[1] \"students_server\""
            ]
          },
          "metadata": {}
        }
      ]
    },
    {
      "cell_type": "code",
      "source": [
        "dbGetQuery(con,\"SELECT * FROM students_server\")"
      ],
      "metadata": {
        "colab": {
          "base_uri": "https://localhost:8080/",
          "height": 224
        },
        "id": "g1EC4lmEGxCM",
        "outputId": "bda349da-227c-45f6-e16b-a1812f42ef91"
      },
      "execution_count": null,
      "outputs": [
        {
          "output_type": "display_data",
          "data": {
            "text/html": [
              "<table class=\"dataframe\">\n",
              "<caption>A data.frame: 4 × 3</caption>\n",
              "<thead>\n",
              "\t<tr><th></th><th scope=col>id</th><th scope=col>name</th><th scope=col>grade</th></tr>\n",
              "\t<tr><th></th><th scope=col>&lt;int&gt;</th><th scope=col>&lt;chr&gt;</th><th scope=col>&lt;chr&gt;</th></tr>\n",
              "</thead>\n",
              "<tbody>\n",
              "\t<tr><th scope=row>1</th><td>1</td><td>Ben </td><td>A</td></tr>\n",
              "\t<tr><th scope=row>2</th><td>2</td><td>Bas </td><td>B</td></tr>\n",
              "\t<tr><th scope=row>3</th><td>3</td><td>Base</td><td>C</td></tr>\n",
              "\t<tr><th scope=row>4</th><td>4</td><td>Boss</td><td>D</td></tr>\n",
              "</tbody>\n",
              "</table>\n"
            ],
            "text/markdown": "\nA data.frame: 4 × 3\n\n| <!--/--> | id &lt;int&gt; | name &lt;chr&gt; | grade &lt;chr&gt; |\n|---|---|---|---|\n| 1 | 1 | Ben  | A |\n| 2 | 2 | Bas  | B |\n| 3 | 3 | Base | C |\n| 4 | 4 | Boss | D |\n\n",
            "text/latex": "A data.frame: 4 × 3\n\\begin{tabular}{r|lll}\n  & id & name & grade\\\\\n  & <int> & <chr> & <chr>\\\\\n\\hline\n\t1 & 1 & Ben  & A\\\\\n\t2 & 2 & Bas  & B\\\\\n\t3 & 3 & Base & C\\\\\n\t4 & 4 & Boss & D\\\\\n\\end{tabular}\n",
            "text/plain": [
              "  id name grade\n",
              "1 1  Ben  A    \n",
              "2 2  Bas  B    \n",
              "3 3  Base C    \n",
              "4 4  Boss D    "
            ]
          },
          "metadata": {}
        }
      ]
    },
    {
      "cell_type": "code",
      "source": [
        "#close connection\n",
        "dbDisconnect(con)"
      ],
      "metadata": {
        "colab": {
          "base_uri": "https://localhost:8080/",
          "height": 34
        },
        "id": "hSAZyI9UH1G4",
        "outputId": "0dbec4be-556e-400d-cfaa-19c464af7642"
      },
      "execution_count": null,
      "outputs": [
        {
          "output_type": "display_data",
          "data": {
            "text/html": [
              "TRUE"
            ],
            "text/markdown": "TRUE",
            "text/latex": "TRUE",
            "text/plain": [
              "[1] TRUE"
            ]
          },
          "metadata": {}
        }
      ]
    }
  ]
}