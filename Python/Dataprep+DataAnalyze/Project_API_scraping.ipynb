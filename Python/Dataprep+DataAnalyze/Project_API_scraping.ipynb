{
  "nbformat": 4,
  "nbformat_minor": 0,
  "metadata": {
    "colab": {
      "provenance": [],
      "toc_visible": true,
      "authorship_tag": "ABX9TyP1IceMgViYdTATcdjyEWgg",
      "include_colab_link": true
    },
    "kernelspec": {
      "name": "python3",
      "display_name": "Python 3"
    },
    "language_info": {
      "name": "python"
    }
  },
  "cells": [
    {
      "cell_type": "markdown",
      "metadata": {
        "id": "view-in-github",
        "colab_type": "text"
      },
      "source": [
        "<a href=\"https://colab.research.google.com/github/benpkxd/Data-Analysis-Bootcamp/blob/main/Project_API_scraping.ipynb\" target=\"_parent\"><img src=\"https://colab.research.google.com/assets/colab-badge.svg\" alt=\"Open In Colab\"/></a>"
      ]
    },
    {
      "cell_type": "markdown",
      "source": [
        "# Test *URL*"
      ],
      "metadata": {
        "id": "YUIIMcRuTATA"
      }
    },
    {
      "cell_type": "code",
      "execution_count": null,
      "metadata": {
        "id": "858S-l9v7fkv"
      },
      "outputs": [],
      "source": [
        "import requests\n",
        "import time\n",
        "import pandas as pd"
      ]
    },
    {
      "cell_type": "code",
      "source": [
        "url = \"https://rickandmortyapi.com/api/character/2\"\n",
        "response = requests.get(url)\n"
      ],
      "metadata": {
        "id": "FXinMYVU8oAN"
      },
      "execution_count": null,
      "outputs": []
    },
    {
      "cell_type": "code",
      "source": [
        "response.status_code"
      ],
      "metadata": {
        "colab": {
          "base_uri": "https://localhost:8080/"
        },
        "id": "OJffSpp0Q3O6",
        "outputId": "bba57e0e-30ac-449c-ee97-9f7b412cadca"
      },
      "execution_count": null,
      "outputs": [
        {
          "output_type": "execute_result",
          "data": {
            "text/plain": [
              "200"
            ]
          },
          "metadata": {},
          "execution_count": 4
        }
      ]
    },
    {
      "cell_type": "code",
      "source": [
        "result = response.json()"
      ],
      "metadata": {
        "id": "L7-zOPE2Ys-j"
      },
      "execution_count": null,
      "outputs": []
    },
    {
      "cell_type": "code",
      "source": [
        "result['id']"
      ],
      "metadata": {
        "colab": {
          "base_uri": "https://localhost:8080/"
        },
        "id": "749vyK8KY7lC",
        "outputId": "18059c67-6bbd-4f14-dcb6-3bb6ff997a49"
      },
      "execution_count": null,
      "outputs": [
        {
          "output_type": "execute_result",
          "data": {
            "text/plain": [
              "2"
            ]
          },
          "metadata": {},
          "execution_count": 6
        }
      ]
    },
    {
      "cell_type": "markdown",
      "source": [
        "# Create DF from API\n",
        "request character"
      ],
      "metadata": {
        "id": "H-KinWGHTIst"
      }
    },
    {
      "cell_type": "code",
      "source": [
        "ids = []\n",
        "names = []\n",
        "status =[]\n",
        "species =[]\n",
        "types = []\n",
        "gender = []\n",
        "origins = []\n",
        "images = []\n",
        "\n",
        "for i in range (1,101):\n",
        "  url = f\"https://rickandmortyapi.com/api/character/{i}\"\n",
        "  response = requests.get(url)\n",
        "  result = response.json()\n",
        "  ids.append(result['id'])\n",
        "  names.append(result['name'])\n",
        "  status.append(result['status'])\n",
        "  species.append(result['species'])\n",
        "  types.append(result['type'])\n",
        "  gender.append(result['gender'])\n",
        "  origins.append(result['origin']['name'])\n",
        "  images.append(result['image'])\n",
        "  time.sleep(0.5)\n",
        "\n",
        "\n"
      ],
      "metadata": {
        "id": "5ot6O48w85e9"
      },
      "execution_count": null,
      "outputs": []
    },
    {
      "cell_type": "code",
      "source": [
        "DF = pd.DataFrame({\n",
        "    'name':names,\n",
        "    'status':status,\n",
        "    'specie':species,\n",
        "    'type':types,\n",
        "    'gender':gender,\n",
        "    'origin':origins,\n",
        "    'image':images,    \n",
        "})"
      ],
      "metadata": {
        "id": "yNG3r1D6VqVX"
      },
      "execution_count": null,
      "outputs": []
    },
    {
      "cell_type": "code",
      "source": [
        "DF"
      ],
      "metadata": {
        "colab": {
          "base_uri": "https://localhost:8080/",
          "height": 424
        },
        "id": "GA21-BGkXzxW",
        "outputId": "ddc0c459-2a25-44a2-a432-024a39ef78e4"
      },
      "execution_count": null,
      "outputs": [
        {
          "output_type": "execute_result",
          "data": {
            "text/plain": [
              "              name status   specie type   gender  \\\n",
              "0     Rick Sanchez  Alive    Human          Male   \n",
              "1      Morty Smith  Alive    Human          Male   \n",
              "2     Summer Smith  Alive    Human        Female   \n",
              "3       Beth Smith  Alive    Human        Female   \n",
              "4      Jerry Smith  Alive    Human          Male   \n",
              "..             ...    ...      ...  ...      ...   \n",
              "95    Tuberculosis   Dead  Disease       unknown   \n",
              "96       Gonorrhea   Dead  Disease       unknown   \n",
              "97     Hepatitis A   Dead  Disease       unknown   \n",
              "98     Hepatitis C   Dead  Disease       unknown   \n",
              "99  Bubonic Plague   Dead  Disease       unknown   \n",
              "\n",
              "                           origin  \\\n",
              "0                   Earth (C-137)   \n",
              "1                         unknown   \n",
              "2   Earth (Replacement Dimension)   \n",
              "3   Earth (Replacement Dimension)   \n",
              "4   Earth (Replacement Dimension)   \n",
              "..                            ...   \n",
              "95                   Anatomy Park   \n",
              "96                   Anatomy Park   \n",
              "97                   Anatomy Park   \n",
              "98                   Anatomy Park   \n",
              "99                   Anatomy Park   \n",
              "\n",
              "                                                image  \n",
              "0   https://rickandmortyapi.com/api/character/avat...  \n",
              "1   https://rickandmortyapi.com/api/character/avat...  \n",
              "2   https://rickandmortyapi.com/api/character/avat...  \n",
              "3   https://rickandmortyapi.com/api/character/avat...  \n",
              "4   https://rickandmortyapi.com/api/character/avat...  \n",
              "..                                                ...  \n",
              "95  https://rickandmortyapi.com/api/character/avat...  \n",
              "96  https://rickandmortyapi.com/api/character/avat...  \n",
              "97  https://rickandmortyapi.com/api/character/avat...  \n",
              "98  https://rickandmortyapi.com/api/character/avat...  \n",
              "99  https://rickandmortyapi.com/api/character/avat...  \n",
              "\n",
              "[100 rows x 7 columns]"
            ],
            "text/html": [
              "\n",
              "  <div id=\"df-3da35173-cdba-45d6-ac00-5e3eccaa8c77\">\n",
              "    <div class=\"colab-df-container\">\n",
              "      <div>\n",
              "<style scoped>\n",
              "    .dataframe tbody tr th:only-of-type {\n",
              "        vertical-align: middle;\n",
              "    }\n",
              "\n",
              "    .dataframe tbody tr th {\n",
              "        vertical-align: top;\n",
              "    }\n",
              "\n",
              "    .dataframe thead th {\n",
              "        text-align: right;\n",
              "    }\n",
              "</style>\n",
              "<table border=\"1\" class=\"dataframe\">\n",
              "  <thead>\n",
              "    <tr style=\"text-align: right;\">\n",
              "      <th></th>\n",
              "      <th>name</th>\n",
              "      <th>status</th>\n",
              "      <th>specie</th>\n",
              "      <th>type</th>\n",
              "      <th>gender</th>\n",
              "      <th>origin</th>\n",
              "      <th>image</th>\n",
              "    </tr>\n",
              "  </thead>\n",
              "  <tbody>\n",
              "    <tr>\n",
              "      <th>0</th>\n",
              "      <td>Rick Sanchez</td>\n",
              "      <td>Alive</td>\n",
              "      <td>Human</td>\n",
              "      <td></td>\n",
              "      <td>Male</td>\n",
              "      <td>Earth (C-137)</td>\n",
              "      <td>https://rickandmortyapi.com/api/character/avat...</td>\n",
              "    </tr>\n",
              "    <tr>\n",
              "      <th>1</th>\n",
              "      <td>Morty Smith</td>\n",
              "      <td>Alive</td>\n",
              "      <td>Human</td>\n",
              "      <td></td>\n",
              "      <td>Male</td>\n",
              "      <td>unknown</td>\n",
              "      <td>https://rickandmortyapi.com/api/character/avat...</td>\n",
              "    </tr>\n",
              "    <tr>\n",
              "      <th>2</th>\n",
              "      <td>Summer Smith</td>\n",
              "      <td>Alive</td>\n",
              "      <td>Human</td>\n",
              "      <td></td>\n",
              "      <td>Female</td>\n",
              "      <td>Earth (Replacement Dimension)</td>\n",
              "      <td>https://rickandmortyapi.com/api/character/avat...</td>\n",
              "    </tr>\n",
              "    <tr>\n",
              "      <th>3</th>\n",
              "      <td>Beth Smith</td>\n",
              "      <td>Alive</td>\n",
              "      <td>Human</td>\n",
              "      <td></td>\n",
              "      <td>Female</td>\n",
              "      <td>Earth (Replacement Dimension)</td>\n",
              "      <td>https://rickandmortyapi.com/api/character/avat...</td>\n",
              "    </tr>\n",
              "    <tr>\n",
              "      <th>4</th>\n",
              "      <td>Jerry Smith</td>\n",
              "      <td>Alive</td>\n",
              "      <td>Human</td>\n",
              "      <td></td>\n",
              "      <td>Male</td>\n",
              "      <td>Earth (Replacement Dimension)</td>\n",
              "      <td>https://rickandmortyapi.com/api/character/avat...</td>\n",
              "    </tr>\n",
              "    <tr>\n",
              "      <th>...</th>\n",
              "      <td>...</td>\n",
              "      <td>...</td>\n",
              "      <td>...</td>\n",
              "      <td>...</td>\n",
              "      <td>...</td>\n",
              "      <td>...</td>\n",
              "      <td>...</td>\n",
              "    </tr>\n",
              "    <tr>\n",
              "      <th>95</th>\n",
              "      <td>Tuberculosis</td>\n",
              "      <td>Dead</td>\n",
              "      <td>Disease</td>\n",
              "      <td></td>\n",
              "      <td>unknown</td>\n",
              "      <td>Anatomy Park</td>\n",
              "      <td>https://rickandmortyapi.com/api/character/avat...</td>\n",
              "    </tr>\n",
              "    <tr>\n",
              "      <th>96</th>\n",
              "      <td>Gonorrhea</td>\n",
              "      <td>Dead</td>\n",
              "      <td>Disease</td>\n",
              "      <td></td>\n",
              "      <td>unknown</td>\n",
              "      <td>Anatomy Park</td>\n",
              "      <td>https://rickandmortyapi.com/api/character/avat...</td>\n",
              "    </tr>\n",
              "    <tr>\n",
              "      <th>97</th>\n",
              "      <td>Hepatitis A</td>\n",
              "      <td>Dead</td>\n",
              "      <td>Disease</td>\n",
              "      <td></td>\n",
              "      <td>unknown</td>\n",
              "      <td>Anatomy Park</td>\n",
              "      <td>https://rickandmortyapi.com/api/character/avat...</td>\n",
              "    </tr>\n",
              "    <tr>\n",
              "      <th>98</th>\n",
              "      <td>Hepatitis C</td>\n",
              "      <td>Dead</td>\n",
              "      <td>Disease</td>\n",
              "      <td></td>\n",
              "      <td>unknown</td>\n",
              "      <td>Anatomy Park</td>\n",
              "      <td>https://rickandmortyapi.com/api/character/avat...</td>\n",
              "    </tr>\n",
              "    <tr>\n",
              "      <th>99</th>\n",
              "      <td>Bubonic Plague</td>\n",
              "      <td>Dead</td>\n",
              "      <td>Disease</td>\n",
              "      <td></td>\n",
              "      <td>unknown</td>\n",
              "      <td>Anatomy Park</td>\n",
              "      <td>https://rickandmortyapi.com/api/character/avat...</td>\n",
              "    </tr>\n",
              "  </tbody>\n",
              "</table>\n",
              "<p>100 rows × 7 columns</p>\n",
              "</div>\n",
              "      <button class=\"colab-df-convert\" onclick=\"convertToInteractive('df-3da35173-cdba-45d6-ac00-5e3eccaa8c77')\"\n",
              "              title=\"Convert this dataframe to an interactive table.\"\n",
              "              style=\"display:none;\">\n",
              "        \n",
              "  <svg xmlns=\"http://www.w3.org/2000/svg\" height=\"24px\"viewBox=\"0 0 24 24\"\n",
              "       width=\"24px\">\n",
              "    <path d=\"M0 0h24v24H0V0z\" fill=\"none\"/>\n",
              "    <path d=\"M18.56 5.44l.94 2.06.94-2.06 2.06-.94-2.06-.94-.94-2.06-.94 2.06-2.06.94zm-11 1L8.5 8.5l.94-2.06 2.06-.94-2.06-.94L8.5 2.5l-.94 2.06-2.06.94zm10 10l.94 2.06.94-2.06 2.06-.94-2.06-.94-.94-2.06-.94 2.06-2.06.94z\"/><path d=\"M17.41 7.96l-1.37-1.37c-.4-.4-.92-.59-1.43-.59-.52 0-1.04.2-1.43.59L10.3 9.45l-7.72 7.72c-.78.78-.78 2.05 0 2.83L4 21.41c.39.39.9.59 1.41.59.51 0 1.02-.2 1.41-.59l7.78-7.78 2.81-2.81c.8-.78.8-2.07 0-2.86zM5.41 20L4 18.59l7.72-7.72 1.47 1.35L5.41 20z\"/>\n",
              "  </svg>\n",
              "      </button>\n",
              "      \n",
              "  <style>\n",
              "    .colab-df-container {\n",
              "      display:flex;\n",
              "      flex-wrap:wrap;\n",
              "      gap: 12px;\n",
              "    }\n",
              "\n",
              "    .colab-df-convert {\n",
              "      background-color: #E8F0FE;\n",
              "      border: none;\n",
              "      border-radius: 50%;\n",
              "      cursor: pointer;\n",
              "      display: none;\n",
              "      fill: #1967D2;\n",
              "      height: 32px;\n",
              "      padding: 0 0 0 0;\n",
              "      width: 32px;\n",
              "    }\n",
              "\n",
              "    .colab-df-convert:hover {\n",
              "      background-color: #E2EBFA;\n",
              "      box-shadow: 0px 1px 2px rgba(60, 64, 67, 0.3), 0px 1px 3px 1px rgba(60, 64, 67, 0.15);\n",
              "      fill: #174EA6;\n",
              "    }\n",
              "\n",
              "    [theme=dark] .colab-df-convert {\n",
              "      background-color: #3B4455;\n",
              "      fill: #D2E3FC;\n",
              "    }\n",
              "\n",
              "    [theme=dark] .colab-df-convert:hover {\n",
              "      background-color: #434B5C;\n",
              "      box-shadow: 0px 1px 3px 1px rgba(0, 0, 0, 0.15);\n",
              "      filter: drop-shadow(0px 1px 2px rgba(0, 0, 0, 0.3));\n",
              "      fill: #FFFFFF;\n",
              "    }\n",
              "  </style>\n",
              "\n",
              "      <script>\n",
              "        const buttonEl =\n",
              "          document.querySelector('#df-3da35173-cdba-45d6-ac00-5e3eccaa8c77 button.colab-df-convert');\n",
              "        buttonEl.style.display =\n",
              "          google.colab.kernel.accessAllowed ? 'block' : 'none';\n",
              "\n",
              "        async function convertToInteractive(key) {\n",
              "          const element = document.querySelector('#df-3da35173-cdba-45d6-ac00-5e3eccaa8c77');\n",
              "          const dataTable =\n",
              "            await google.colab.kernel.invokeFunction('convertToInteractive',\n",
              "                                                     [key], {});\n",
              "          if (!dataTable) return;\n",
              "\n",
              "          const docLinkHtml = 'Like what you see? Visit the ' +\n",
              "            '<a target=\"_blank\" href=https://colab.research.google.com/notebooks/data_table.ipynb>data table notebook</a>'\n",
              "            + ' to learn more about interactive tables.';\n",
              "          element.innerHTML = '';\n",
              "          dataTable['output_type'] = 'display_data';\n",
              "          await google.colab.output.renderOutput(dataTable, element);\n",
              "          const docLink = document.createElement('div');\n",
              "          docLink.innerHTML = docLinkHtml;\n",
              "          element.appendChild(docLink);\n",
              "        }\n",
              "      </script>\n",
              "    </div>\n",
              "  </div>\n",
              "  "
            ]
          },
          "metadata": {},
          "execution_count": 10
        }
      ]
    },
    {
      "cell_type": "code",
      "source": [
        "DF.info()"
      ],
      "metadata": {
        "colab": {
          "base_uri": "https://localhost:8080/"
        },
        "id": "BghaViNuS6ST",
        "outputId": "f6b3cc36-c5ad-4071-a769-cfc2cc9b01fe"
      },
      "execution_count": null,
      "outputs": [
        {
          "output_type": "stream",
          "name": "stdout",
          "text": [
            "<class 'pandas.core.frame.DataFrame'>\n",
            "RangeIndex: 100 entries, 0 to 99\n",
            "Data columns (total 7 columns):\n",
            " #   Column  Non-Null Count  Dtype \n",
            "---  ------  --------------  ----- \n",
            " 0   name    100 non-null    object\n",
            " 1   status  100 non-null    object\n",
            " 2   specie  100 non-null    object\n",
            " 3   type    100 non-null    object\n",
            " 4   gender  100 non-null    object\n",
            " 5   origin  100 non-null    object\n",
            " 6   image   100 non-null    object\n",
            "dtypes: object(7)\n",
            "memory usage: 5.6+ KB\n"
          ]
        }
      ]
    },
    {
      "cell_type": "code",
      "source": [],
      "metadata": {
        "id": "WIMjYRtTTMLZ"
      },
      "execution_count": null,
      "outputs": []
    }
  ]
}
