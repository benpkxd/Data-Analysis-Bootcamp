{
  "metadata": {
    "kernelspec": {
      "language": "python",
      "display_name": "Python 3",
      "name": "python3"
    },
    "language_info": {
      "name": "python",
      "version": "3.10.12",
      "mimetype": "text/x-python",
      "codemirror_mode": {
        "name": "ipython",
        "version": 3
      },
      "pygments_lexer": "ipython3",
      "nbconvert_exporter": "python",
      "file_extension": ".py"
    },
    "kaggle": {
      "accelerator": "none",
      "dataSources": [
        {
          "sourceId": 482,
          "sourceType": "datasetVersion",
          "datasetId": 228
        }
      ],
      "dockerImageVersionId": 30839,
      "isInternetEnabled": true,
      "language": "python",
      "sourceType": "notebook",
      "isGpuEnabled": false
    },
    "colab": {
      "name": "Python for ML (LogReg)",
      "provenance": [],
      "include_colab_link": true
    }
  },
  "nbformat_minor": 0,
  "nbformat": 4,
  "cells": [
    {
      "cell_type": "markdown",
      "metadata": {
        "id": "view-in-github",
        "colab_type": "text"
      },
      "source": [
        "<a href=\"https://colab.research.google.com/github/benpkxd/Data-Analysis-Skills/blob/main/Python/Datapreb%2BDataAnalyze/Python_for_ML_(LogReg).ipynb\" target=\"_parent\"><img src=\"https://colab.research.google.com/assets/colab-badge.svg\" alt=\"Open In Colab\"/></a>"
      ]
    },
    {
      "source": [
        "# IMPORTANT: RUN THIS CELL IN ORDER TO IMPORT YOUR KAGGLE DATA SOURCES,\n",
        "# THEN FEEL FREE TO DELETE THIS CELL.\n",
        "# NOTE: THIS NOTEBOOK ENVIRONMENT DIFFERS FROM KAGGLE'S PYTHON\n",
        "# ENVIRONMENT SO THERE MAY BE MISSING LIBRARIES USED BY YOUR\n",
        "# NOTEBOOK.\n",
        "import kagglehub\n",
        "organizations_uciml_pima_indians_diabetes_database_path = kagglehub.dataset_download('organizations/uciml/pima-indians-diabetes-database')\n",
        "\n",
        "print('Data source import complete.')\n"
      ],
      "metadata": {
        "id": "bT4wOGVzSocj"
      },
      "cell_type": "code",
      "outputs": [],
      "execution_count": null
    },
    {
      "cell_type": "code",
      "source": [
        "import numpy as np # linear algebra\n",
        "import pandas as pd # data processing, CSV file I/O (e.g. pd.read_csv)"
      ],
      "metadata": {
        "_uuid": "8f2839f25d086af736a60e9eeb907d3b93b6e0e5",
        "_cell_guid": "b1076dfc-b9ad-4769-8c92-a6c4dae69d19",
        "trusted": true,
        "execution": {
          "iopub.status.busy": "2025-01-19T13:25:02.361567Z",
          "iopub.execute_input": "2025-01-19T13:25:02.361894Z",
          "iopub.status.idle": "2025-01-19T13:25:03.451982Z",
          "shell.execute_reply.started": "2025-01-19T13:25:02.361865Z",
          "shell.execute_reply": "2025-01-19T13:25:03.449491Z"
        },
        "id": "byHSsR_KSocm"
      },
      "outputs": [],
      "execution_count": null
    },
    {
      "cell_type": "code",
      "source": [
        "col_names=['pregnant','glucose','bp','skin','insulin','bmi','pedigree','age','label']\n",
        "df = pd.read_csv(\"/kaggle/input/pima-indians-diabetes-database/diabetes.csv\")"
      ],
      "metadata": {
        "trusted": true,
        "execution": {
          "iopub.status.busy": "2025-01-19T13:25:03.45413Z",
          "iopub.execute_input": "2025-01-19T13:25:03.454891Z",
          "iopub.status.idle": "2025-01-19T13:25:03.498348Z",
          "shell.execute_reply.started": "2025-01-19T13:25:03.454843Z",
          "shell.execute_reply": "2025-01-19T13:25:03.493935Z"
        },
        "id": "9lu2gjCPSocn"
      },
      "outputs": [],
      "execution_count": null
    },
    {
      "cell_type": "code",
      "source": [
        "df.head()"
      ],
      "metadata": {
        "trusted": true,
        "execution": {
          "iopub.status.busy": "2025-01-19T13:25:03.500036Z",
          "iopub.execute_input": "2025-01-19T13:25:03.500491Z",
          "iopub.status.idle": "2025-01-19T13:25:03.538406Z",
          "shell.execute_reply.started": "2025-01-19T13:25:03.500431Z",
          "shell.execute_reply": "2025-01-19T13:25:03.536916Z"
        },
        "id": "0mU8mx5BSoco",
        "outputId": "67df0eab-bc70-4919-b3e2-6a1bdb41f57d"
      },
      "outputs": [
        {
          "execution_count": 3,
          "output_type": "execute_result",
          "data": {
            "text/plain": "   Pregnancies  Glucose  BloodPressure  SkinThickness  Insulin   BMI  \\\n0            6      148             72             35        0  33.6   \n1            1       85             66             29        0  26.6   \n2            8      183             64              0        0  23.3   \n3            1       89             66             23       94  28.1   \n4            0      137             40             35      168  43.1   \n\n   DiabetesPedigreeFunction  Age  Outcome  \n0                     0.627   50        1  \n1                     0.351   31        0  \n2                     0.672   32        1  \n3                     0.167   21        0  \n4                     2.288   33        1  ",
            "text/html": "<div>\n<style scoped>\n    .dataframe tbody tr th:only-of-type {\n        vertical-align: middle;\n    }\n\n    .dataframe tbody tr th {\n        vertical-align: top;\n    }\n\n    .dataframe thead th {\n        text-align: right;\n    }\n</style>\n<table border=\"1\" class=\"dataframe\">\n  <thead>\n    <tr style=\"text-align: right;\">\n      <th></th>\n      <th>Pregnancies</th>\n      <th>Glucose</th>\n      <th>BloodPressure</th>\n      <th>SkinThickness</th>\n      <th>Insulin</th>\n      <th>BMI</th>\n      <th>DiabetesPedigreeFunction</th>\n      <th>Age</th>\n      <th>Outcome</th>\n    </tr>\n  </thead>\n  <tbody>\n    <tr>\n      <th>0</th>\n      <td>6</td>\n      <td>148</td>\n      <td>72</td>\n      <td>35</td>\n      <td>0</td>\n      <td>33.6</td>\n      <td>0.627</td>\n      <td>50</td>\n      <td>1</td>\n    </tr>\n    <tr>\n      <th>1</th>\n      <td>1</td>\n      <td>85</td>\n      <td>66</td>\n      <td>29</td>\n      <td>0</td>\n      <td>26.6</td>\n      <td>0.351</td>\n      <td>31</td>\n      <td>0</td>\n    </tr>\n    <tr>\n      <th>2</th>\n      <td>8</td>\n      <td>183</td>\n      <td>64</td>\n      <td>0</td>\n      <td>0</td>\n      <td>23.3</td>\n      <td>0.672</td>\n      <td>32</td>\n      <td>1</td>\n    </tr>\n    <tr>\n      <th>3</th>\n      <td>1</td>\n      <td>89</td>\n      <td>66</td>\n      <td>23</td>\n      <td>94</td>\n      <td>28.1</td>\n      <td>0.167</td>\n      <td>21</td>\n      <td>0</td>\n    </tr>\n    <tr>\n      <th>4</th>\n      <td>0</td>\n      <td>137</td>\n      <td>40</td>\n      <td>35</td>\n      <td>168</td>\n      <td>43.1</td>\n      <td>2.288</td>\n      <td>33</td>\n      <td>1</td>\n    </tr>\n  </tbody>\n</table>\n</div>"
          },
          "metadata": {}
        }
      ],
      "execution_count": null
    },
    {
      "cell_type": "code",
      "source": [
        "#split dataset\n",
        "factors_cols =['Pregnancies','Glucose','BloodPressure','Insulin','BMI','Age','DiabetesPedigreeFunction']\n",
        "x = df[factors_cols] #factors var.\n",
        "y = df.Outcome #target var."
      ],
      "metadata": {
        "trusted": true,
        "execution": {
          "iopub.status.busy": "2025-01-19T13:25:03.541931Z",
          "iopub.execute_input": "2025-01-19T13:25:03.542264Z",
          "iopub.status.idle": "2025-01-19T13:25:03.561554Z",
          "shell.execute_reply.started": "2025-01-19T13:25:03.542238Z",
          "shell.execute_reply": "2025-01-19T13:25:03.559943Z"
        },
        "id": "BskyCWdlSoco"
      },
      "outputs": [],
      "execution_count": null
    },
    {
      "cell_type": "code",
      "source": [
        "df.info(\n",
        ")"
      ],
      "metadata": {
        "trusted": true,
        "execution": {
          "iopub.status.busy": "2025-01-19T13:25:03.563018Z",
          "iopub.execute_input": "2025-01-19T13:25:03.56344Z",
          "iopub.status.idle": "2025-01-19T13:25:03.61249Z",
          "shell.execute_reply.started": "2025-01-19T13:25:03.563409Z",
          "shell.execute_reply": "2025-01-19T13:25:03.61127Z"
        },
        "id": "wsVe0E_bSocp",
        "outputId": "a4dec21e-6e24-43e2-f2b3-4328ad3543ee"
      },
      "outputs": [
        {
          "name": "stdout",
          "text": "<class 'pandas.core.frame.DataFrame'>\nRangeIndex: 768 entries, 0 to 767\nData columns (total 9 columns):\n #   Column                    Non-Null Count  Dtype  \n---  ------                    --------------  -----  \n 0   Pregnancies               768 non-null    int64  \n 1   Glucose                   768 non-null    int64  \n 2   BloodPressure             768 non-null    int64  \n 3   SkinThickness             768 non-null    int64  \n 4   Insulin                   768 non-null    int64  \n 5   BMI                       768 non-null    float64\n 6   DiabetesPedigreeFunction  768 non-null    float64\n 7   Age                       768 non-null    int64  \n 8   Outcome                   768 non-null    int64  \ndtypes: float64(2), int64(7)\nmemory usage: 54.1 KB\n",
          "output_type": "stream"
        }
      ],
      "execution_count": null
    },
    {
      "cell_type": "code",
      "source": [
        "#split train test data\n",
        "from sklearn.model_selection import train_test_split\n",
        "x_train,x_test,y_train,y_test  = train_test_split(x,y,test_size  = 0.20,random_state = 20)"
      ],
      "metadata": {
        "trusted": true,
        "execution": {
          "iopub.status.busy": "2025-01-19T13:25:03.61391Z",
          "iopub.execute_input": "2025-01-19T13:25:03.61431Z",
          "iopub.status.idle": "2025-01-19T13:25:05.311011Z",
          "shell.execute_reply.started": "2025-01-19T13:25:03.614267Z",
          "shell.execute_reply": "2025-01-19T13:25:05.30972Z"
        },
        "id": "0qvOEN0MSocp"
      },
      "outputs": [],
      "execution_count": null
    },
    {
      "cell_type": "code",
      "source": [
        "#import the class\n",
        "from sklearn.linear_model import LogisticRegression\n",
        "#generate model\n",
        "logreg = LogisticRegression(random_state=20)\n"
      ],
      "metadata": {
        "trusted": true,
        "execution": {
          "iopub.status.busy": "2025-01-19T13:25:05.312782Z",
          "iopub.execute_input": "2025-01-19T13:25:05.313505Z",
          "iopub.status.idle": "2025-01-19T13:25:05.440736Z",
          "shell.execute_reply.started": "2025-01-19T13:25:05.313457Z",
          "shell.execute_reply": "2025-01-19T13:25:05.43957Z"
        },
        "id": "7saMmdeTSocq"
      },
      "outputs": [],
      "execution_count": null
    },
    {
      "cell_type": "code",
      "source": [
        "#fit the model with data\n",
        "logreg.fit(x_train, y_train)\n",
        "\n"
      ],
      "metadata": {
        "trusted": true,
        "execution": {
          "iopub.status.busy": "2025-01-19T13:25:05.442021Z",
          "iopub.execute_input": "2025-01-19T13:25:05.44248Z",
          "iopub.status.idle": "2025-01-19T13:25:05.508083Z",
          "shell.execute_reply.started": "2025-01-19T13:25:05.442438Z",
          "shell.execute_reply": "2025-01-19T13:25:05.506433Z"
        },
        "id": "lYO5IkC8Socq",
        "outputId": "c3a5c4d9-9398-4646-e369-1ed881cc4e2f"
      },
      "outputs": [
        {
          "execution_count": 8,
          "output_type": "execute_result",
          "data": {
            "text/plain": "LogisticRegression(random_state=20)",
            "text/html": "<style>#sk-container-id-1 {color: black;background-color: white;}#sk-container-id-1 pre{padding: 0;}#sk-container-id-1 div.sk-toggleable {background-color: white;}#sk-container-id-1 label.sk-toggleable__label {cursor: pointer;display: block;width: 100%;margin-bottom: 0;padding: 0.3em;box-sizing: border-box;text-align: center;}#sk-container-id-1 label.sk-toggleable__label-arrow:before {content: \"▸\";float: left;margin-right: 0.25em;color: #696969;}#sk-container-id-1 label.sk-toggleable__label-arrow:hover:before {color: black;}#sk-container-id-1 div.sk-estimator:hover label.sk-toggleable__label-arrow:before {color: black;}#sk-container-id-1 div.sk-toggleable__content {max-height: 0;max-width: 0;overflow: hidden;text-align: left;background-color: #f0f8ff;}#sk-container-id-1 div.sk-toggleable__content pre {margin: 0.2em;color: black;border-radius: 0.25em;background-color: #f0f8ff;}#sk-container-id-1 input.sk-toggleable__control:checked~div.sk-toggleable__content {max-height: 200px;max-width: 100%;overflow: auto;}#sk-container-id-1 input.sk-toggleable__control:checked~label.sk-toggleable__label-arrow:before {content: \"▾\";}#sk-container-id-1 div.sk-estimator input.sk-toggleable__control:checked~label.sk-toggleable__label {background-color: #d4ebff;}#sk-container-id-1 div.sk-label input.sk-toggleable__control:checked~label.sk-toggleable__label {background-color: #d4ebff;}#sk-container-id-1 input.sk-hidden--visually {border: 0;clip: rect(1px 1px 1px 1px);clip: rect(1px, 1px, 1px, 1px);height: 1px;margin: -1px;overflow: hidden;padding: 0;position: absolute;width: 1px;}#sk-container-id-1 div.sk-estimator {font-family: monospace;background-color: #f0f8ff;border: 1px dotted black;border-radius: 0.25em;box-sizing: border-box;margin-bottom: 0.5em;}#sk-container-id-1 div.sk-estimator:hover {background-color: #d4ebff;}#sk-container-id-1 div.sk-parallel-item::after {content: \"\";width: 100%;border-bottom: 1px solid gray;flex-grow: 1;}#sk-container-id-1 div.sk-label:hover label.sk-toggleable__label {background-color: #d4ebff;}#sk-container-id-1 div.sk-serial::before {content: \"\";position: absolute;border-left: 1px solid gray;box-sizing: border-box;top: 0;bottom: 0;left: 50%;z-index: 0;}#sk-container-id-1 div.sk-serial {display: flex;flex-direction: column;align-items: center;background-color: white;padding-right: 0.2em;padding-left: 0.2em;position: relative;}#sk-container-id-1 div.sk-item {position: relative;z-index: 1;}#sk-container-id-1 div.sk-parallel {display: flex;align-items: stretch;justify-content: center;background-color: white;position: relative;}#sk-container-id-1 div.sk-item::before, #sk-container-id-1 div.sk-parallel-item::before {content: \"\";position: absolute;border-left: 1px solid gray;box-sizing: border-box;top: 0;bottom: 0;left: 50%;z-index: -1;}#sk-container-id-1 div.sk-parallel-item {display: flex;flex-direction: column;z-index: 1;position: relative;background-color: white;}#sk-container-id-1 div.sk-parallel-item:first-child::after {align-self: flex-end;width: 50%;}#sk-container-id-1 div.sk-parallel-item:last-child::after {align-self: flex-start;width: 50%;}#sk-container-id-1 div.sk-parallel-item:only-child::after {width: 0;}#sk-container-id-1 div.sk-dashed-wrapped {border: 1px dashed gray;margin: 0 0.4em 0.5em 0.4em;box-sizing: border-box;padding-bottom: 0.4em;background-color: white;}#sk-container-id-1 div.sk-label label {font-family: monospace;font-weight: bold;display: inline-block;line-height: 1.2em;}#sk-container-id-1 div.sk-label-container {text-align: center;}#sk-container-id-1 div.sk-container {/* jupyter's `normalize.less` sets `[hidden] { display: none; }` but bootstrap.min.css set `[hidden] { display: none !important; }` so we also need the `!important` here to be able to override the default hidden behavior on the sphinx rendered scikit-learn.org. See: https://github.com/scikit-learn/scikit-learn/issues/21755 */display: inline-block !important;position: relative;}#sk-container-id-1 div.sk-text-repr-fallback {display: none;}</style><div id=\"sk-container-id-1\" class=\"sk-top-container\"><div class=\"sk-text-repr-fallback\"><pre>LogisticRegression(random_state=20)</pre><b>In a Jupyter environment, please rerun this cell to show the HTML representation or trust the notebook. <br />On GitHub, the HTML representation is unable to render, please try loading this page with nbviewer.org.</b></div><div class=\"sk-container\" hidden><div class=\"sk-item\"><div class=\"sk-estimator sk-toggleable\"><input class=\"sk-toggleable__control sk-hidden--visually\" id=\"sk-estimator-id-1\" type=\"checkbox\" checked><label for=\"sk-estimator-id-1\" class=\"sk-toggleable__label sk-toggleable__label-arrow\">LogisticRegression</label><div class=\"sk-toggleable__content\"><pre>LogisticRegression(random_state=20)</pre></div></div></div></div></div>"
          },
          "metadata": {}
        }
      ],
      "execution_count": null
    },
    {
      "cell_type": "code",
      "source": [
        "y_pred = logreg.predict(x_test)"
      ],
      "metadata": {
        "trusted": true,
        "execution": {
          "iopub.status.busy": "2025-01-19T13:25:05.510882Z",
          "iopub.execute_input": "2025-01-19T13:25:05.511224Z",
          "iopub.status.idle": "2025-01-19T13:25:05.521087Z",
          "shell.execute_reply.started": "2025-01-19T13:25:05.511195Z",
          "shell.execute_reply": "2025-01-19T13:25:05.519435Z"
        },
        "id": "RkCT78fHSocq"
      },
      "outputs": [],
      "execution_count": null
    },
    {
      "cell_type": "code",
      "source": [
        "#Evaluate model\n",
        "from sklearn import metrics\n",
        "matrix = metrics.confusion_matrix(y_test,y_pred)\n",
        "matrix"
      ],
      "metadata": {
        "trusted": true,
        "execution": {
          "iopub.status.busy": "2025-01-19T13:25:05.521976Z",
          "iopub.execute_input": "2025-01-19T13:25:05.522249Z",
          "iopub.status.idle": "2025-01-19T13:25:05.549724Z",
          "shell.execute_reply.started": "2025-01-19T13:25:05.522227Z",
          "shell.execute_reply": "2025-01-19T13:25:05.548425Z"
        },
        "id": "RrrcPtGFSoc_",
        "outputId": "182c9e28-0169-4153-a827-008d37f9a52f"
      },
      "outputs": [
        {
          "execution_count": 10,
          "output_type": "execute_result",
          "data": {
            "text/plain": "array([[88, 13],\n       [24, 29]])"
          },
          "metadata": {}
        }
      ],
      "execution_count": null
    },
    {
      "cell_type": "markdown",
      "source": [
        "The dimension of this matrix is 2*2 because this model is binary classification. You have two classes 0 and 1. Diagonal values represent accurate predictions, while non-diagonal elements are inaccurate predictions. In the output, 88 and 29 are actual predictions, and 13 and 24 are incorrect predictions."
      ],
      "metadata": {
        "id": "MVDIgdQGSoc_"
      }
    },
    {
      "cell_type": "markdown",
      "source": [],
      "metadata": {
        "id": "-6AjBNmkSodB"
      }
    },
    {
      "cell_type": "code",
      "source": [
        "import numpy as np\n",
        "import matplotlib.pyplot as plt\n",
        "import seaborn as sns\n",
        "\n",
        "class_names=[0,1]\n",
        "fig, ax = plt.subplots()\n",
        "tick_marks = np.arange(len(class_names))\n",
        "plt.xticks(tick_marks,class_names)\n",
        "plt.yticks(tick_marks,class_names)\n",
        "\n",
        "#create heatmap\n",
        "sns.heatmap(pd.DataFrame(matrix),annot = True , cmap = 'YlGnBu',fmt = 'g')\n",
        "ax.xaxis.set_label_position('top')\n",
        "plt.tight_layout()\n",
        "plt.title('Confusion matrix',y=1.1)\n",
        "plt.xlabel('Actual label')\n",
        "plt.ylabel('Predicted label')\n",
        "\n"
      ],
      "metadata": {
        "trusted": true,
        "execution": {
          "iopub.status.busy": "2025-01-19T14:48:51.693727Z",
          "iopub.execute_input": "2025-01-19T14:48:51.694124Z",
          "iopub.status.idle": "2025-01-19T14:48:51.977712Z",
          "shell.execute_reply.started": "2025-01-19T14:48:51.694091Z",
          "shell.execute_reply": "2025-01-19T14:48:51.975976Z"
        },
        "id": "nphc1WTQSodB",
        "outputId": "8d7dde06-9064-4f74-b2b6-ed9799ad6e69"
      },
      "outputs": [
        {
          "execution_count": 25,
          "output_type": "execute_result",
          "data": {
            "text/plain": "Text(50.722222222222214, 0.5, 'Predicted label')"
          },
          "metadata": {}
        },
        {
          "output_type": "display_data",
          "data": {
            "text/plain": "<Figure size 640x480 with 2 Axes>",
            "image/png": "[encoded data removed]"
          },
          "metadata": {}
        }
      ],
      "execution_count": null
    },
    {
      "cell_type": "markdown",
      "source": [
        "This code imports the required modules numpy, matplotlib.pyplot, and seaborn. It then defines a list of class names and creates a subplots object using matplotlib. It also creates tick marks for the x and y axes using numpy's arange function and sets the tick labels to the class names.\n",
        "\n",
        "\n",
        "The code then creates a heatmap using seaborn's heatmap function, passing in a pandas DataFrame containing the confusion matrix as an argument. The heatmap is annotated with the values in the matrix and colored using the YlGnBu colormap.\n",
        "\n",
        "\n",
        "The x-axis label is set to be on top of the plot using the xaxis.set_label_position method, and the plot is tightened using the tight_layout method. The title of the plot is set to \"Confusion matrix\" with a y-coordinate of 1.1, and the y-axis and x-axis labels are set to \"Actual label\" and \"Predicted label\", respectively."
      ],
      "metadata": {
        "id": "d1Z0cffRSodB"
      }
    },
    {
      "cell_type": "markdown",
      "source": [],
      "metadata": {
        "id": "J6PDzsCkSodB"
      }
    },
    {
      "cell_type": "code",
      "source": [
        "#evaluate metric\n",
        "from sklearn.metrics import classification_report\n",
        "target_names = ['without diabetes','with diabetes']\n",
        "print(classification_report(y_test,y_pred,target_names=target_names))"
      ],
      "metadata": {
        "trusted": true,
        "execution": {
          "iopub.status.busy": "2025-01-19T15:11:06.600734Z",
          "iopub.execute_input": "2025-01-19T15:11:06.601206Z",
          "iopub.status.idle": "2025-01-19T15:11:06.619211Z",
          "shell.execute_reply.started": "2025-01-19T15:11:06.601167Z",
          "shell.execute_reply": "2025-01-19T15:11:06.617923Z"
        },
        "id": "C1gr8ppGSodC",
        "outputId": "d645a5a5-5ede-4e49-8747-1f3901a8868a"
      },
      "outputs": [
        {
          "name": "stdout",
          "text": "                  precision    recall  f1-score   support\n\nwithout diabetes       0.79      0.87      0.83       101\n   with diabetes       0.69      0.55      0.61        53\n\n        accuracy                           0.76       154\n       macro avg       0.74      0.71      0.72       154\n    weighted avg       0.75      0.76      0.75       154\n\n",
          "output_type": "stream"
        }
      ],
      "execution_count": null
    },
    {
      "cell_type": "markdown",
      "source": [],
      "metadata": {
        "id": "0NdhN6frSodC"
      }
    },
    {
      "cell_type": "code",
      "source": [
        "#ROC curve\n",
        "y_pred_proba = logreg.predict_proba(x_test)[::,1]\n",
        "fpr,tpr,_=metrics.roc_curve(y_test,y_pred_proba)\n",
        "auc=metrics.roc_auc_score(y_test,y_pred_proba)\n",
        "plt.plot(fpr,tpr,label=\"data 1,auc =\"+str(auc))\n",
        "plt.legend(loc=4)\n",
        "plt.show()\n"
      ],
      "metadata": {
        "trusted": true,
        "execution": {
          "iopub.status.busy": "2025-01-19T15:43:09.473978Z",
          "iopub.execute_input": "2025-01-19T15:43:09.474473Z",
          "iopub.status.idle": "2025-01-19T15:43:09.688616Z",
          "shell.execute_reply.started": "2025-01-19T15:43:09.474431Z",
          "shell.execute_reply": "2025-01-19T15:43:09.687345Z"
        },
        "id": "b3X3PjvgSodC",
        "outputId": "76d36fbb-b10f-44bb-9b4f-926c25907669"
      },
      "outputs": [
        {
          "output_type": "display_data",
          "data": {
            "text/plain": "<Figure size 640x480 with 1 Axes>",
            "image/png": "[encoded data removed]"
          },
          "metadata": {}
        }
      ],
      "execution_count": null
    },
    {
      "cell_type": "code",
      "source": [],
      "metadata": {
        "trusted": true,
        "id": "UUnj2tHLSodC"
      },
      "outputs": [],
      "execution_count": null
    }
  ]
}